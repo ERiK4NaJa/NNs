{
  "nbformat": 4,
  "nbformat_minor": 0,
  "metadata": {
    "kernelspec": {
      "name": "python3",
      "display_name": "Python 3"
    },
    "language_info": {
      "codemirror_mode": {
        "name": "ipython",
        "version": 3
      },
      "file_extension": ".py",
      "mimetype": "text/x-python",
      "name": "python",
      "nbconvert_exporter": "python",
      "pygments_lexer": "ipython3",
      "version": "3.6.1"
    },
    "colab": {
      "name": "Intro_to_PyTorch.ipynb",
      "provenance": [],
      "collapsed_sections": [],
      "include_colab_link": true
    },
    "accelerator": "GPU",
    "widgets": {
      "application/vnd.jupyter.widget-state+json": {
        "b0436a6148ec4e65adfba7cb7082fc53": {
          "model_module": "@jupyter-widgets/controls",
          "model_name": "HBoxModel",
          "state": {
            "_view_name": "HBoxView",
            "_dom_classes": [],
            "_model_name": "HBoxModel",
            "_view_module": "@jupyter-widgets/controls",
            "_model_module_version": "1.5.0",
            "_view_count": null,
            "_view_module_version": "1.5.0",
            "box_style": "",
            "layout": "IPY_MODEL_bbdce8f8c6224ae8a34db193956e2c50",
            "_model_module": "@jupyter-widgets/controls",
            "children": [
              "IPY_MODEL_a94a10171ad3460e9e3f48469972f0e8",
              "IPY_MODEL_2d4e816005274ed79a8099107c2bd002"
            ]
          }
        },
        "bbdce8f8c6224ae8a34db193956e2c50": {
          "model_module": "@jupyter-widgets/base",
          "model_name": "LayoutModel",
          "state": {
            "_view_name": "LayoutView",
            "grid_template_rows": null,
            "right": null,
            "justify_content": null,
            "_view_module": "@jupyter-widgets/base",
            "overflow": null,
            "_model_module_version": "1.2.0",
            "_view_count": null,
            "flex_flow": null,
            "width": null,
            "min_width": null,
            "border": null,
            "align_items": null,
            "bottom": null,
            "_model_module": "@jupyter-widgets/base",
            "top": null,
            "grid_column": null,
            "overflow_y": null,
            "overflow_x": null,
            "grid_auto_flow": null,
            "grid_area": null,
            "grid_template_columns": null,
            "flex": null,
            "_model_name": "LayoutModel",
            "justify_items": null,
            "grid_row": null,
            "max_height": null,
            "align_content": null,
            "visibility": null,
            "align_self": null,
            "height": null,
            "min_height": null,
            "padding": null,
            "grid_auto_rows": null,
            "grid_gap": null,
            "max_width": null,
            "order": null,
            "_view_module_version": "1.2.0",
            "grid_template_areas": null,
            "object_position": null,
            "object_fit": null,
            "grid_auto_columns": null,
            "margin": null,
            "display": null,
            "left": null
          }
        },
        "a94a10171ad3460e9e3f48469972f0e8": {
          "model_module": "@jupyter-widgets/controls",
          "model_name": "IntProgressModel",
          "state": {
            "_view_name": "ProgressView",
            "style": "IPY_MODEL_4d2e2ee2bc2949538f364f44d3f4ad7b",
            "_dom_classes": [],
            "description": "",
            "_model_name": "IntProgressModel",
            "bar_style": "success",
            "max": 1,
            "_view_module": "@jupyter-widgets/controls",
            "_model_module_version": "1.5.0",
            "value": 1,
            "_view_count": null,
            "_view_module_version": "1.5.0",
            "orientation": "horizontal",
            "min": 0,
            "description_tooltip": null,
            "_model_module": "@jupyter-widgets/controls",
            "layout": "IPY_MODEL_a7b057c9e1d3458c947a9e894acf8d6a"
          }
        },
        "2d4e816005274ed79a8099107c2bd002": {
          "model_module": "@jupyter-widgets/controls",
          "model_name": "HTMLModel",
          "state": {
            "_view_name": "HTMLView",
            "style": "IPY_MODEL_987549a9140c4b188578f52d537633da",
            "_dom_classes": [],
            "description": "",
            "_model_name": "HTMLModel",
            "placeholder": "​",
            "_view_module": "@jupyter-widgets/controls",
            "_model_module_version": "1.5.0",
            "value": "9920512it [00:02, 3369952.54it/s]",
            "_view_count": null,
            "_view_module_version": "1.5.0",
            "description_tooltip": null,
            "_model_module": "@jupyter-widgets/controls",
            "layout": "IPY_MODEL_4a724c36c64f4ea9a3cc726d99934a85"
          }
        },
        "4d2e2ee2bc2949538f364f44d3f4ad7b": {
          "model_module": "@jupyter-widgets/controls",
          "model_name": "ProgressStyleModel",
          "state": {
            "_view_name": "StyleView",
            "_model_name": "ProgressStyleModel",
            "description_width": "",
            "_view_module": "@jupyter-widgets/base",
            "_model_module_version": "1.5.0",
            "_view_count": null,
            "_view_module_version": "1.2.0",
            "bar_color": null,
            "_model_module": "@jupyter-widgets/controls"
          }
        },
        "a7b057c9e1d3458c947a9e894acf8d6a": {
          "model_module": "@jupyter-widgets/base",
          "model_name": "LayoutModel",
          "state": {
            "_view_name": "LayoutView",
            "grid_template_rows": null,
            "right": null,
            "justify_content": null,
            "_view_module": "@jupyter-widgets/base",
            "overflow": null,
            "_model_module_version": "1.2.0",
            "_view_count": null,
            "flex_flow": null,
            "width": null,
            "min_width": null,
            "border": null,
            "align_items": null,
            "bottom": null,
            "_model_module": "@jupyter-widgets/base",
            "top": null,
            "grid_column": null,
            "overflow_y": null,
            "overflow_x": null,
            "grid_auto_flow": null,
            "grid_area": null,
            "grid_template_columns": null,
            "flex": null,
            "_model_name": "LayoutModel",
            "justify_items": null,
            "grid_row": null,
            "max_height": null,
            "align_content": null,
            "visibility": null,
            "align_self": null,
            "height": null,
            "min_height": null,
            "padding": null,
            "grid_auto_rows": null,
            "grid_gap": null,
            "max_width": null,
            "order": null,
            "_view_module_version": "1.2.0",
            "grid_template_areas": null,
            "object_position": null,
            "object_fit": null,
            "grid_auto_columns": null,
            "margin": null,
            "display": null,
            "left": null
          }
        },
        "987549a9140c4b188578f52d537633da": {
          "model_module": "@jupyter-widgets/controls",
          "model_name": "DescriptionStyleModel",
          "state": {
            "_view_name": "StyleView",
            "_model_name": "DescriptionStyleModel",
            "description_width": "",
            "_view_module": "@jupyter-widgets/base",
            "_model_module_version": "1.5.0",
            "_view_count": null,
            "_view_module_version": "1.2.0",
            "_model_module": "@jupyter-widgets/controls"
          }
        },
        "4a724c36c64f4ea9a3cc726d99934a85": {
          "model_module": "@jupyter-widgets/base",
          "model_name": "LayoutModel",
          "state": {
            "_view_name": "LayoutView",
            "grid_template_rows": null,
            "right": null,
            "justify_content": null,
            "_view_module": "@jupyter-widgets/base",
            "overflow": null,
            "_model_module_version": "1.2.0",
            "_view_count": null,
            "flex_flow": null,
            "width": null,
            "min_width": null,
            "border": null,
            "align_items": null,
            "bottom": null,
            "_model_module": "@jupyter-widgets/base",
            "top": null,
            "grid_column": null,
            "overflow_y": null,
            "overflow_x": null,
            "grid_auto_flow": null,
            "grid_area": null,
            "grid_template_columns": null,
            "flex": null,
            "_model_name": "LayoutModel",
            "justify_items": null,
            "grid_row": null,
            "max_height": null,
            "align_content": null,
            "visibility": null,
            "align_self": null,
            "height": null,
            "min_height": null,
            "padding": null,
            "grid_auto_rows": null,
            "grid_gap": null,
            "max_width": null,
            "order": null,
            "_view_module_version": "1.2.0",
            "grid_template_areas": null,
            "object_position": null,
            "object_fit": null,
            "grid_auto_columns": null,
            "margin": null,
            "display": null,
            "left": null
          }
        },
        "46e01315621f4e6a82914f650fe12c5a": {
          "model_module": "@jupyter-widgets/controls",
          "model_name": "HBoxModel",
          "state": {
            "_view_name": "HBoxView",
            "_dom_classes": [],
            "_model_name": "HBoxModel",
            "_view_module": "@jupyter-widgets/controls",
            "_model_module_version": "1.5.0",
            "_view_count": null,
            "_view_module_version": "1.5.0",
            "box_style": "",
            "layout": "IPY_MODEL_bd42f2617a4a4ae290b55f033591cd9b",
            "_model_module": "@jupyter-widgets/controls",
            "children": [
              "IPY_MODEL_0f4fd6391e74456b8ea1c6f72bb813ac",
              "IPY_MODEL_24d76fcd713c4dfa9fc97571cb232a74"
            ]
          }
        },
        "bd42f2617a4a4ae290b55f033591cd9b": {
          "model_module": "@jupyter-widgets/base",
          "model_name": "LayoutModel",
          "state": {
            "_view_name": "LayoutView",
            "grid_template_rows": null,
            "right": null,
            "justify_content": null,
            "_view_module": "@jupyter-widgets/base",
            "overflow": null,
            "_model_module_version": "1.2.0",
            "_view_count": null,
            "flex_flow": null,
            "width": null,
            "min_width": null,
            "border": null,
            "align_items": null,
            "bottom": null,
            "_model_module": "@jupyter-widgets/base",
            "top": null,
            "grid_column": null,
            "overflow_y": null,
            "overflow_x": null,
            "grid_auto_flow": null,
            "grid_area": null,
            "grid_template_columns": null,
            "flex": null,
            "_model_name": "LayoutModel",
            "justify_items": null,
            "grid_row": null,
            "max_height": null,
            "align_content": null,
            "visibility": null,
            "align_self": null,
            "height": null,
            "min_height": null,
            "padding": null,
            "grid_auto_rows": null,
            "grid_gap": null,
            "max_width": null,
            "order": null,
            "_view_module_version": "1.2.0",
            "grid_template_areas": null,
            "object_position": null,
            "object_fit": null,
            "grid_auto_columns": null,
            "margin": null,
            "display": null,
            "left": null
          }
        },
        "0f4fd6391e74456b8ea1c6f72bb813ac": {
          "model_module": "@jupyter-widgets/controls",
          "model_name": "IntProgressModel",
          "state": {
            "_view_name": "ProgressView",
            "style": "IPY_MODEL_a3293121b22b40f2956576c124e54018",
            "_dom_classes": [],
            "description": "",
            "_model_name": "IntProgressModel",
            "bar_style": "success",
            "max": 1,
            "_view_module": "@jupyter-widgets/controls",
            "_model_module_version": "1.5.0",
            "value": 1,
            "_view_count": null,
            "_view_module_version": "1.5.0",
            "orientation": "horizontal",
            "min": 0,
            "description_tooltip": null,
            "_model_module": "@jupyter-widgets/controls",
            "layout": "IPY_MODEL_a9c5f2907cbe477e8ba4ec5fe31402de"
          }
        },
        "24d76fcd713c4dfa9fc97571cb232a74": {
          "model_module": "@jupyter-widgets/controls",
          "model_name": "HTMLModel",
          "state": {
            "_view_name": "HTMLView",
            "style": "IPY_MODEL_68c29f1ad3e142aaa5709c5689ba7ae3",
            "_dom_classes": [],
            "description": "",
            "_model_name": "HTMLModel",
            "placeholder": "​",
            "_view_module": "@jupyter-widgets/controls",
            "_model_module_version": "1.5.0",
            "value": "32768it [00:01, 30004.63it/s]",
            "_view_count": null,
            "_view_module_version": "1.5.0",
            "description_tooltip": null,
            "_model_module": "@jupyter-widgets/controls",
            "layout": "IPY_MODEL_4da402f501be473288f012d9527ad766"
          }
        },
        "a3293121b22b40f2956576c124e54018": {
          "model_module": "@jupyter-widgets/controls",
          "model_name": "ProgressStyleModel",
          "state": {
            "_view_name": "StyleView",
            "_model_name": "ProgressStyleModel",
            "description_width": "",
            "_view_module": "@jupyter-widgets/base",
            "_model_module_version": "1.5.0",
            "_view_count": null,
            "_view_module_version": "1.2.0",
            "bar_color": null,
            "_model_module": "@jupyter-widgets/controls"
          }
        },
        "a9c5f2907cbe477e8ba4ec5fe31402de": {
          "model_module": "@jupyter-widgets/base",
          "model_name": "LayoutModel",
          "state": {
            "_view_name": "LayoutView",
            "grid_template_rows": null,
            "right": null,
            "justify_content": null,
            "_view_module": "@jupyter-widgets/base",
            "overflow": null,
            "_model_module_version": "1.2.0",
            "_view_count": null,
            "flex_flow": null,
            "width": null,
            "min_width": null,
            "border": null,
            "align_items": null,
            "bottom": null,
            "_model_module": "@jupyter-widgets/base",
            "top": null,
            "grid_column": null,
            "overflow_y": null,
            "overflow_x": null,
            "grid_auto_flow": null,
            "grid_area": null,
            "grid_template_columns": null,
            "flex": null,
            "_model_name": "LayoutModel",
            "justify_items": null,
            "grid_row": null,
            "max_height": null,
            "align_content": null,
            "visibility": null,
            "align_self": null,
            "height": null,
            "min_height": null,
            "padding": null,
            "grid_auto_rows": null,
            "grid_gap": null,
            "max_width": null,
            "order": null,
            "_view_module_version": "1.2.0",
            "grid_template_areas": null,
            "object_position": null,
            "object_fit": null,
            "grid_auto_columns": null,
            "margin": null,
            "display": null,
            "left": null
          }
        },
        "68c29f1ad3e142aaa5709c5689ba7ae3": {
          "model_module": "@jupyter-widgets/controls",
          "model_name": "DescriptionStyleModel",
          "state": {
            "_view_name": "StyleView",
            "_model_name": "DescriptionStyleModel",
            "description_width": "",
            "_view_module": "@jupyter-widgets/base",
            "_model_module_version": "1.5.0",
            "_view_count": null,
            "_view_module_version": "1.2.0",
            "_model_module": "@jupyter-widgets/controls"
          }
        },
        "4da402f501be473288f012d9527ad766": {
          "model_module": "@jupyter-widgets/base",
          "model_name": "LayoutModel",
          "state": {
            "_view_name": "LayoutView",
            "grid_template_rows": null,
            "right": null,
            "justify_content": null,
            "_view_module": "@jupyter-widgets/base",
            "overflow": null,
            "_model_module_version": "1.2.0",
            "_view_count": null,
            "flex_flow": null,
            "width": null,
            "min_width": null,
            "border": null,
            "align_items": null,
            "bottom": null,
            "_model_module": "@jupyter-widgets/base",
            "top": null,
            "grid_column": null,
            "overflow_y": null,
            "overflow_x": null,
            "grid_auto_flow": null,
            "grid_area": null,
            "grid_template_columns": null,
            "flex": null,
            "_model_name": "LayoutModel",
            "justify_items": null,
            "grid_row": null,
            "max_height": null,
            "align_content": null,
            "visibility": null,
            "align_self": null,
            "height": null,
            "min_height": null,
            "padding": null,
            "grid_auto_rows": null,
            "grid_gap": null,
            "max_width": null,
            "order": null,
            "_view_module_version": "1.2.0",
            "grid_template_areas": null,
            "object_position": null,
            "object_fit": null,
            "grid_auto_columns": null,
            "margin": null,
            "display": null,
            "left": null
          }
        },
        "3857374939c84e60b0a3b3de8b92cf17": {
          "model_module": "@jupyter-widgets/controls",
          "model_name": "HBoxModel",
          "state": {
            "_view_name": "HBoxView",
            "_dom_classes": [],
            "_model_name": "HBoxModel",
            "_view_module": "@jupyter-widgets/controls",
            "_model_module_version": "1.5.0",
            "_view_count": null,
            "_view_module_version": "1.5.0",
            "box_style": "",
            "layout": "IPY_MODEL_5995fb6a416a4ba991432e28d8cf2426",
            "_model_module": "@jupyter-widgets/controls",
            "children": [
              "IPY_MODEL_342547b5905f4ca98a0523f4560f6d7e",
              "IPY_MODEL_4736d4ee2b0e41dba738363b5ed564ba"
            ]
          }
        },
        "5995fb6a416a4ba991432e28d8cf2426": {
          "model_module": "@jupyter-widgets/base",
          "model_name": "LayoutModel",
          "state": {
            "_view_name": "LayoutView",
            "grid_template_rows": null,
            "right": null,
            "justify_content": null,
            "_view_module": "@jupyter-widgets/base",
            "overflow": null,
            "_model_module_version": "1.2.0",
            "_view_count": null,
            "flex_flow": null,
            "width": null,
            "min_width": null,
            "border": null,
            "align_items": null,
            "bottom": null,
            "_model_module": "@jupyter-widgets/base",
            "top": null,
            "grid_column": null,
            "overflow_y": null,
            "overflow_x": null,
            "grid_auto_flow": null,
            "grid_area": null,
            "grid_template_columns": null,
            "flex": null,
            "_model_name": "LayoutModel",
            "justify_items": null,
            "grid_row": null,
            "max_height": null,
            "align_content": null,
            "visibility": null,
            "align_self": null,
            "height": null,
            "min_height": null,
            "padding": null,
            "grid_auto_rows": null,
            "grid_gap": null,
            "max_width": null,
            "order": null,
            "_view_module_version": "1.2.0",
            "grid_template_areas": null,
            "object_position": null,
            "object_fit": null,
            "grid_auto_columns": null,
            "margin": null,
            "display": null,
            "left": null
          }
        },
        "342547b5905f4ca98a0523f4560f6d7e": {
          "model_module": "@jupyter-widgets/controls",
          "model_name": "IntProgressModel",
          "state": {
            "_view_name": "ProgressView",
            "style": "IPY_MODEL_f51379bd5dea453fa052057c7d26b5af",
            "_dom_classes": [],
            "description": "",
            "_model_name": "IntProgressModel",
            "bar_style": "success",
            "max": 1,
            "_view_module": "@jupyter-widgets/controls",
            "_model_module_version": "1.5.0",
            "value": 1,
            "_view_count": null,
            "_view_module_version": "1.5.0",
            "orientation": "horizontal",
            "min": 0,
            "description_tooltip": null,
            "_model_module": "@jupyter-widgets/controls",
            "layout": "IPY_MODEL_d26d86ced0854049979ab8df8cdd679d"
          }
        },
        "4736d4ee2b0e41dba738363b5ed564ba": {
          "model_module": "@jupyter-widgets/controls",
          "model_name": "HTMLModel",
          "state": {
            "_view_name": "HTMLView",
            "style": "IPY_MODEL_61f09a99a50f4651b0efc1918cd556c9",
            "_dom_classes": [],
            "description": "",
            "_model_name": "HTMLModel",
            "placeholder": "​",
            "_view_module": "@jupyter-widgets/controls",
            "_model_module_version": "1.5.0",
            "value": "1654784it [00:02, 733985.39it/s]",
            "_view_count": null,
            "_view_module_version": "1.5.0",
            "description_tooltip": null,
            "_model_module": "@jupyter-widgets/controls",
            "layout": "IPY_MODEL_a39370b1aae54032ab2a88bffd7901f5"
          }
        },
        "f51379bd5dea453fa052057c7d26b5af": {
          "model_module": "@jupyter-widgets/controls",
          "model_name": "ProgressStyleModel",
          "state": {
            "_view_name": "StyleView",
            "_model_name": "ProgressStyleModel",
            "description_width": "",
            "_view_module": "@jupyter-widgets/base",
            "_model_module_version": "1.5.0",
            "_view_count": null,
            "_view_module_version": "1.2.0",
            "bar_color": null,
            "_model_module": "@jupyter-widgets/controls"
          }
        },
        "d26d86ced0854049979ab8df8cdd679d": {
          "model_module": "@jupyter-widgets/base",
          "model_name": "LayoutModel",
          "state": {
            "_view_name": "LayoutView",
            "grid_template_rows": null,
            "right": null,
            "justify_content": null,
            "_view_module": "@jupyter-widgets/base",
            "overflow": null,
            "_model_module_version": "1.2.0",
            "_view_count": null,
            "flex_flow": null,
            "width": null,
            "min_width": null,
            "border": null,
            "align_items": null,
            "bottom": null,
            "_model_module": "@jupyter-widgets/base",
            "top": null,
            "grid_column": null,
            "overflow_y": null,
            "overflow_x": null,
            "grid_auto_flow": null,
            "grid_area": null,
            "grid_template_columns": null,
            "flex": null,
            "_model_name": "LayoutModel",
            "justify_items": null,
            "grid_row": null,
            "max_height": null,
            "align_content": null,
            "visibility": null,
            "align_self": null,
            "height": null,
            "min_height": null,
            "padding": null,
            "grid_auto_rows": null,
            "grid_gap": null,
            "max_width": null,
            "order": null,
            "_view_module_version": "1.2.0",
            "grid_template_areas": null,
            "object_position": null,
            "object_fit": null,
            "grid_auto_columns": null,
            "margin": null,
            "display": null,
            "left": null
          }
        },
        "61f09a99a50f4651b0efc1918cd556c9": {
          "model_module": "@jupyter-widgets/controls",
          "model_name": "DescriptionStyleModel",
          "state": {
            "_view_name": "StyleView",
            "_model_name": "DescriptionStyleModel",
            "description_width": "",
            "_view_module": "@jupyter-widgets/base",
            "_model_module_version": "1.5.0",
            "_view_count": null,
            "_view_module_version": "1.2.0",
            "_model_module": "@jupyter-widgets/controls"
          }
        },
        "a39370b1aae54032ab2a88bffd7901f5": {
          "model_module": "@jupyter-widgets/base",
          "model_name": "LayoutModel",
          "state": {
            "_view_name": "LayoutView",
            "grid_template_rows": null,
            "right": null,
            "justify_content": null,
            "_view_module": "@jupyter-widgets/base",
            "overflow": null,
            "_model_module_version": "1.2.0",
            "_view_count": null,
            "flex_flow": null,
            "width": null,
            "min_width": null,
            "border": null,
            "align_items": null,
            "bottom": null,
            "_model_module": "@jupyter-widgets/base",
            "top": null,
            "grid_column": null,
            "overflow_y": null,
            "overflow_x": null,
            "grid_auto_flow": null,
            "grid_area": null,
            "grid_template_columns": null,
            "flex": null,
            "_model_name": "LayoutModel",
            "justify_items": null,
            "grid_row": null,
            "max_height": null,
            "align_content": null,
            "visibility": null,
            "align_self": null,
            "height": null,
            "min_height": null,
            "padding": null,
            "grid_auto_rows": null,
            "grid_gap": null,
            "max_width": null,
            "order": null,
            "_view_module_version": "1.2.0",
            "grid_template_areas": null,
            "object_position": null,
            "object_fit": null,
            "grid_auto_columns": null,
            "margin": null,
            "display": null,
            "left": null
          }
        },
        "2f0d14dc8c4440c280da94944c1b886b": {
          "model_module": "@jupyter-widgets/controls",
          "model_name": "HBoxModel",
          "state": {
            "_view_name": "HBoxView",
            "_dom_classes": [],
            "_model_name": "HBoxModel",
            "_view_module": "@jupyter-widgets/controls",
            "_model_module_version": "1.5.0",
            "_view_count": null,
            "_view_module_version": "1.5.0",
            "box_style": "",
            "layout": "IPY_MODEL_917f6b12275f4dceaec51a47fef69d99",
            "_model_module": "@jupyter-widgets/controls",
            "children": [
              "IPY_MODEL_4b3d31caa4b942eb86aa8a7726cb262b",
              "IPY_MODEL_c742bfd182934fa98577fd2808af70bc"
            ]
          }
        },
        "917f6b12275f4dceaec51a47fef69d99": {
          "model_module": "@jupyter-widgets/base",
          "model_name": "LayoutModel",
          "state": {
            "_view_name": "LayoutView",
            "grid_template_rows": null,
            "right": null,
            "justify_content": null,
            "_view_module": "@jupyter-widgets/base",
            "overflow": null,
            "_model_module_version": "1.2.0",
            "_view_count": null,
            "flex_flow": null,
            "width": null,
            "min_width": null,
            "border": null,
            "align_items": null,
            "bottom": null,
            "_model_module": "@jupyter-widgets/base",
            "top": null,
            "grid_column": null,
            "overflow_y": null,
            "overflow_x": null,
            "grid_auto_flow": null,
            "grid_area": null,
            "grid_template_columns": null,
            "flex": null,
            "_model_name": "LayoutModel",
            "justify_items": null,
            "grid_row": null,
            "max_height": null,
            "align_content": null,
            "visibility": null,
            "align_self": null,
            "height": null,
            "min_height": null,
            "padding": null,
            "grid_auto_rows": null,
            "grid_gap": null,
            "max_width": null,
            "order": null,
            "_view_module_version": "1.2.0",
            "grid_template_areas": null,
            "object_position": null,
            "object_fit": null,
            "grid_auto_columns": null,
            "margin": null,
            "display": null,
            "left": null
          }
        },
        "4b3d31caa4b942eb86aa8a7726cb262b": {
          "model_module": "@jupyter-widgets/controls",
          "model_name": "IntProgressModel",
          "state": {
            "_view_name": "ProgressView",
            "style": "IPY_MODEL_b16ee17d567b4bdd8d17bda09e10d6e5",
            "_dom_classes": [],
            "description": "",
            "_model_name": "IntProgressModel",
            "bar_style": "success",
            "max": 1,
            "_view_module": "@jupyter-widgets/controls",
            "_model_module_version": "1.5.0",
            "value": 1,
            "_view_count": null,
            "_view_module_version": "1.5.0",
            "orientation": "horizontal",
            "min": 0,
            "description_tooltip": null,
            "_model_module": "@jupyter-widgets/controls",
            "layout": "IPY_MODEL_4bf8ea515b1345fa96d56f4e7ade32ed"
          }
        },
        "c742bfd182934fa98577fd2808af70bc": {
          "model_module": "@jupyter-widgets/controls",
          "model_name": "HTMLModel",
          "state": {
            "_view_name": "HTMLView",
            "style": "IPY_MODEL_68bdaaa20fa542d58ca1996b83309cd2",
            "_dom_classes": [],
            "description": "",
            "_model_name": "HTMLModel",
            "placeholder": "​",
            "_view_module": "@jupyter-widgets/controls",
            "_model_module_version": "1.5.0",
            "value": "8192it [00:00, 17370.98it/s]",
            "_view_count": null,
            "_view_module_version": "1.5.0",
            "description_tooltip": null,
            "_model_module": "@jupyter-widgets/controls",
            "layout": "IPY_MODEL_e5a2a4034e6b4df3a3c2f94e640efc74"
          }
        },
        "b16ee17d567b4bdd8d17bda09e10d6e5": {
          "model_module": "@jupyter-widgets/controls",
          "model_name": "ProgressStyleModel",
          "state": {
            "_view_name": "StyleView",
            "_model_name": "ProgressStyleModel",
            "description_width": "",
            "_view_module": "@jupyter-widgets/base",
            "_model_module_version": "1.5.0",
            "_view_count": null,
            "_view_module_version": "1.2.0",
            "bar_color": null,
            "_model_module": "@jupyter-widgets/controls"
          }
        },
        "4bf8ea515b1345fa96d56f4e7ade32ed": {
          "model_module": "@jupyter-widgets/base",
          "model_name": "LayoutModel",
          "state": {
            "_view_name": "LayoutView",
            "grid_template_rows": null,
            "right": null,
            "justify_content": null,
            "_view_module": "@jupyter-widgets/base",
            "overflow": null,
            "_model_module_version": "1.2.0",
            "_view_count": null,
            "flex_flow": null,
            "width": null,
            "min_width": null,
            "border": null,
            "align_items": null,
            "bottom": null,
            "_model_module": "@jupyter-widgets/base",
            "top": null,
            "grid_column": null,
            "overflow_y": null,
            "overflow_x": null,
            "grid_auto_flow": null,
            "grid_area": null,
            "grid_template_columns": null,
            "flex": null,
            "_model_name": "LayoutModel",
            "justify_items": null,
            "grid_row": null,
            "max_height": null,
            "align_content": null,
            "visibility": null,
            "align_self": null,
            "height": null,
            "min_height": null,
            "padding": null,
            "grid_auto_rows": null,
            "grid_gap": null,
            "max_width": null,
            "order": null,
            "_view_module_version": "1.2.0",
            "grid_template_areas": null,
            "object_position": null,
            "object_fit": null,
            "grid_auto_columns": null,
            "margin": null,
            "display": null,
            "left": null
          }
        },
        "68bdaaa20fa542d58ca1996b83309cd2": {
          "model_module": "@jupyter-widgets/controls",
          "model_name": "DescriptionStyleModel",
          "state": {
            "_view_name": "StyleView",
            "_model_name": "DescriptionStyleModel",
            "description_width": "",
            "_view_module": "@jupyter-widgets/base",
            "_model_module_version": "1.5.0",
            "_view_count": null,
            "_view_module_version": "1.2.0",
            "_model_module": "@jupyter-widgets/controls"
          }
        },
        "e5a2a4034e6b4df3a3c2f94e640efc74": {
          "model_module": "@jupyter-widgets/base",
          "model_name": "LayoutModel",
          "state": {
            "_view_name": "LayoutView",
            "grid_template_rows": null,
            "right": null,
            "justify_content": null,
            "_view_module": "@jupyter-widgets/base",
            "overflow": null,
            "_model_module_version": "1.2.0",
            "_view_count": null,
            "flex_flow": null,
            "width": null,
            "min_width": null,
            "border": null,
            "align_items": null,
            "bottom": null,
            "_model_module": "@jupyter-widgets/base",
            "top": null,
            "grid_column": null,
            "overflow_y": null,
            "overflow_x": null,
            "grid_auto_flow": null,
            "grid_area": null,
            "grid_template_columns": null,
            "flex": null,
            "_model_name": "LayoutModel",
            "justify_items": null,
            "grid_row": null,
            "max_height": null,
            "align_content": null,
            "visibility": null,
            "align_self": null,
            "height": null,
            "min_height": null,
            "padding": null,
            "grid_auto_rows": null,
            "grid_gap": null,
            "max_width": null,
            "order": null,
            "_view_module_version": "1.2.0",
            "grid_template_areas": null,
            "object_position": null,
            "object_fit": null,
            "grid_auto_columns": null,
            "margin": null,
            "display": null,
            "left": null
          }
        }
      }
    }
  },
  "cells": [
    {
      "cell_type": "markdown",
      "metadata": {
        "id": "view-in-github",
        "colab_type": "text"
      },
      "source": [
        "<a href=\"https://colab.research.google.com/github/HurleyJames/GoogleColabExercise/blob/master/Intro_to_PyTorch.ipynb\" target=\"_parent\"><img src=\"https://colab.research.google.com/assets/colab-badge.svg\" alt=\"Open In Colab\"/></a>"
      ]
    },
    {
      "cell_type": "markdown",
      "metadata": {
        "id": "xuZDvxoMNCXS",
        "colab_type": "text"
      },
      "source": [
        "## **COMP5623 Artificial Intelligence**\n",
        "University of Leeds\n",
        "Spring 2019-2020\n",
        "\n",
        "\n",
        "The purpose of this notebook is to give you a general understanding of how to use the PyTorch Python package for writing, training and analysing neural networks. Only the key topics are covered, and many references are included to documentation and other helpful resources.\n",
        "\n",
        "\n",
        "\n",
        "---\n",
        "\n",
        "### **Introduction to PyTorch**\n",
        "\n",
        "\n",
        "Why PyTorch in this module instead of TensorFlow, Keras, Theano, etc.?\n",
        "\n",
        "- Simplicity but not oversimplified\n",
        "- API\n",
        "- Performance\n",
        "\n",
        "![why_pytorch.png](https://drive.google.com/uc?id=1EQqmbiKtXFVTcqGsxnIu_hqVy7vV1Lyp)\n",
        "\n",
        "Some real evidence that researchers are moving steadily towards PyTorch:\n",
        "\n",
        "https://thegradient.pub/state-of-ml-frameworks-2019-pytorch-dominates-research-tensorflow-dominates-industry/\n",
        "\n",
        "\n",
        "---\n",
        "\n",
        "\n",
        "### Some recommended resources\n",
        "\n",
        "- Pytorch 60-min Blitz Tutorial https://pytorch.org/tutorials/beginner/blitz/tensor_tutorial.html\n",
        "- PyTorch Deep Learning Hands-On by Sherin Thomas and Sudhanshu Passi\n",
        "- Stanford Spring 2019 CS231n Convolutional Neural Networks for Visual Recognition http://cs231n.stanford.edu/, particularly Lecture 6 on PyTorch.\n",
        "- \"A Beginner-Friendly Guide to PyTorch and How it Works from Scratch\" https://www.analyticsvidhya.com/blog/2019/09/introduction-to-pytorch-from-scratch/\n",
        "- The “Image classification (MNIST) using Convnets” example from the PyTorch Git repository (https://github.com/pytorch/examples)\n",
        "\n",
        "\n",
        "\n",
        "\n",
        "\n",
        "---\n",
        "\n",
        "\n",
        "\n",
        "\n",
        "\n",
        "As an overview, this notebook covers:\n",
        "\n",
        "1. Tensors\n",
        "2. Gradients\n",
        "3. Datasets\n",
        "4. Neural networks\n",
        "5. Training (+ training on a GPU)\n",
        "\n",
        "\n",
        "***Welcome to come to lab to work through this notebook and ask questions!***\n",
        "\n",
        "---\n",
        "\n",
        "### 1. Tensors"
      ]
    },
    {
      "cell_type": "code",
      "metadata": {
        "id": "R6-zcPdENCXU",
        "colab_type": "code",
        "colab": {}
      },
      "source": [
        "import torch"
      ],
      "execution_count": 0,
      "outputs": []
    },
    {
      "cell_type": "markdown",
      "metadata": {
        "id": "2C51jrpYNCXZ",
        "colab_type": "text"
      },
      "source": [
        "A Tensor - the basic building block. Similar to NumPy’s ndarrays, with the addition being that Tensors can also be used on a GPU."
      ]
    },
    {
      "cell_type": "code",
      "metadata": {
        "id": "M5SdlMccNCXa",
        "colab_type": "code",
        "colab": {}
      },
      "source": [
        "x = torch.tensor([5.0, 3, 6.6, 1])"
      ],
      "execution_count": 0,
      "outputs": []
    },
    {
      "cell_type": "code",
      "metadata": {
        "id": "XnvoFZKhNCXd",
        "colab_type": "code",
        "outputId": "913d3d66-0ce2-483c-88a7-1f5b3465352e",
        "colab": {
          "base_uri": "https://localhost:8080/",
          "height": 34
        }
      },
      "source": [
        "x"
      ],
      "execution_count": 0,
      "outputs": [
        {
          "output_type": "execute_result",
          "data": {
            "text/plain": [
              "tensor([5.0000, 3.0000, 6.6000, 1.0000])"
            ]
          },
          "metadata": {
            "tags": []
          },
          "execution_count": 3
        }
      ]
    },
    {
      "cell_type": "markdown",
      "metadata": {
        "id": "Bad_SGELNCXi",
        "colab_type": "text"
      },
      "source": [
        "NumPy-like behaviour for array operations - not a regular Python list."
      ]
    },
    {
      "cell_type": "code",
      "metadata": {
        "id": "oiLAaev1NCXi",
        "colab_type": "code",
        "outputId": "542c17e2-7c12-4660-f3cf-f08feb37566c",
        "colab": {
          "base_uri": "https://localhost:8080/",
          "height": 34
        }
      },
      "source": [
        "x + 1"
      ],
      "execution_count": 0,
      "outputs": [
        {
          "output_type": "execute_result",
          "data": {
            "text/plain": [
              "tensor([6.0000, 4.0000, 7.6000, 2.0000])"
            ]
          },
          "metadata": {
            "tags": []
          },
          "execution_count": 4
        }
      ]
    },
    {
      "cell_type": "markdown",
      "metadata": {
        "id": "lB9hupOONCXm",
        "colab_type": "text"
      },
      "source": [
        "PyTorch tensors can be on your CPU or GPU. You can explicitly copy it back and forth.  We will look into this more later in this notebook."
      ]
    },
    {
      "cell_type": "markdown",
      "metadata": {
        "id": "53NXGS7XNCXn",
        "colab_type": "text"
      },
      "source": [
        "### 2. Gradients\n",
        "\n",
        "PyTorch tensors are more powerful than NumPy ndarrays when we are interested in propagating gradients."
      ]
    },
    {
      "cell_type": "markdown",
      "metadata": {
        "id": "LPSziGahNCXo",
        "colab_type": "text"
      },
      "source": [
        "Neural networks are trained via two operations:\n",
        "\n",
        "- a forward pass\n",
        "- a backward pass\n",
        "\n",
        "Both the gradient, and forward and backward pass functions are attached to PyTorch's Tensor object.\n",
        "\n",
        "![gradients](https://drive.google.com/uc?id=1bJavTiS98fioAN4ipI82o_Mej4CTI23_)\n",
        "\n",
        "Slide 51, Backpropagation of Gradients, Lecture \"Image Classification using CNNs\"\n",
        "\n",
        "---\n",
        "\n",
        "\n",
        "Setting **require_grad=True** makes PyTorch track all the operations on that Tensor. When you finish the computation, you can call .backward() on it and the gradients are stored in the **.grad** attribute.\n",
        "\n",
        "- https://pytorch.org/tutorials/beginner/blitz/autograd_tutorial.html\n",
        "https://towardsdatascience.com/\n",
        "\n",
        "- https://towardsdatascience.com/getting-started-with-pytorch-part-1-understanding-how-automatic-differentiation-works-5008282073ec"
      ]
    },
    {
      "cell_type": "code",
      "metadata": {
        "id": "Ttuc2O7_NCXq",
        "colab_type": "code",
        "outputId": "2701cabf-bb73-4463-e4e5-acab02a92084",
        "colab": {
          "base_uri": "https://localhost:8080/",
          "height": 34
        }
      },
      "source": [
        "x = torch.tensor([4.0, 5.0, 6.0], requires_grad=True)\n",
        "x"
      ],
      "execution_count": 0,
      "outputs": [
        {
          "output_type": "execute_result",
          "data": {
            "text/plain": [
              "tensor([4., 5., 6.], requires_grad=True)"
            ]
          },
          "metadata": {
            "tags": []
          },
          "execution_count": 5
        }
      ]
    },
    {
      "cell_type": "markdown",
      "metadata": {
        "id": "cefE-tNOajiJ",
        "colab_type": "text"
      },
      "source": [
        "Does **x** have a grad_fn?"
      ]
    },
    {
      "cell_type": "code",
      "metadata": {
        "id": "Ddij89zlal9N",
        "colab_type": "code",
        "colab": {}
      },
      "source": [
        "x.grad_fn"
      ],
      "execution_count": 0,
      "outputs": []
    },
    {
      "cell_type": "code",
      "metadata": {
        "id": "ElaxL3rtNCXt",
        "colab_type": "code",
        "colab": {}
      },
      "source": [
        "z = x + 2"
      ],
      "execution_count": 0,
      "outputs": []
    },
    {
      "cell_type": "code",
      "metadata": {
        "id": "SpVFdgplaoih",
        "colab_type": "code",
        "outputId": "1e36a195-9949-40bc-d915-04a0824d216f",
        "colab": {
          "base_uri": "https://localhost:8080/",
          "height": 34
        }
      },
      "source": [
        "z"
      ],
      "execution_count": 0,
      "outputs": [
        {
          "output_type": "execute_result",
          "data": {
            "text/plain": [
              "tensor([6., 7., 8.], grad_fn=<AddBackward0>)"
            ]
          },
          "metadata": {
            "tags": []
          },
          "execution_count": 8
        }
      ]
    },
    {
      "cell_type": "markdown",
      "metadata": {
        "id": "Lzsn-dHJNCXx",
        "colab_type": "text"
      },
      "source": [
        "To illustrate how powerful this can be, let's look at the computational graph from the example above. \n",
        "\n",
        "Consider first what this would look like in NumPy."
      ]
    },
    {
      "cell_type": "code",
      "metadata": {
        "id": "S1uUN35zNCXy",
        "colab_type": "code",
        "colab": {}
      },
      "source": [
        "import numpy as np\n",
        "\n",
        "x = np.array([1.0, 2.0, 3.0])\n",
        "w = np.array([4.0, 5.0, 6.0])\n",
        "v = np.array([7.0, 8.0, 9.0])\n",
        "\n",
        "y = x * w"
      ],
      "execution_count": 0,
      "outputs": []
    },
    {
      "cell_type": "markdown",
      "metadata": {
        "id": "q6VQL9WPNCX8",
        "colab_type": "text"
      },
      "source": [
        "We could compute the gradient for **w** manually using NumPy.\n",
        "\n",
        "![loss](https://drive.google.com/uc?id=1eFM0lRxRlbWXGgB5-0lU-SgUIAT08uny)"
      ]
    },
    {
      "cell_type": "code",
      "metadata": {
        "id": "NGDoUbciNCX9",
        "colab_type": "code",
        "outputId": "7ad0e5ca-cf2a-4f2d-bdf5-bcd967d0aedc",
        "colab": {
          "base_uri": "https://localhost:8080/",
          "height": 34
        }
      },
      "source": [
        "grad_w = v * w\n",
        "\n",
        "print(\"grad_w:\", grad_w)"
      ],
      "execution_count": 0,
      "outputs": [
        {
          "output_type": "stream",
          "text": [
            "grad_w: [28. 40. 54.]\n"
          ],
          "name": "stdout"
        }
      ]
    },
    {
      "cell_type": "markdown",
      "metadata": {
        "id": "iLEVHuomNCYA",
        "colab_type": "text"
      },
      "source": [
        "Now, build the same computational graph in PyTorch."
      ]
    },
    {
      "cell_type": "code",
      "metadata": {
        "id": "kNGHDDVoNCYA",
        "colab_type": "code",
        "colab": {}
      },
      "source": [
        "w = torch.tensor((1.0,2.0,3.0), requires_grad=True)\n",
        "x = torch.tensor((4.0,5.0,6.0))\n",
        "v = torch.tensor((7.0,8.0,9.0))\n",
        "\n",
        "y = w * x"
      ],
      "execution_count": 0,
      "outputs": []
    },
    {
      "cell_type": "markdown",
      "metadata": {
        "id": "oazbMokMXDb-",
        "colab_type": "text"
      },
      "source": [
        "Now, with one function call on the output tensor:"
      ]
    },
    {
      "cell_type": "code",
      "metadata": {
        "id": "4igAW3ByNCYD",
        "colab_type": "code",
        "colab": {}
      },
      "source": [
        "y.backward(v)"
      ],
      "execution_count": 0,
      "outputs": []
    },
    {
      "cell_type": "markdown",
      "metadata": {
        "id": "ibIb8JifNCYF",
        "colab_type": "text"
      },
      "source": [
        "Now we can directly access the gradient on w, which has been calculated for us."
      ]
    },
    {
      "cell_type": "code",
      "metadata": {
        "id": "djMwnFqqNCYG",
        "colab_type": "code",
        "outputId": "102765b6-a0dd-443b-9e9b-11ecd40f9e59",
        "colab": {
          "base_uri": "https://localhost:8080/",
          "height": 34
        }
      },
      "source": [
        "w.grad"
      ],
      "execution_count": 0,
      "outputs": [
        {
          "output_type": "execute_result",
          "data": {
            "text/plain": [
              "tensor([28., 40., 54.])"
            ]
          },
          "metadata": {
            "tags": []
          },
          "execution_count": 13
        }
      ]
    },
    {
      "cell_type": "markdown",
      "metadata": {
        "id": "yriVb3QrNCYL",
        "colab_type": "text"
      },
      "source": [
        "If you don't want to track gradients, you can put code inside a **with torch.no_grad()** block. This saves memory. "
      ]
    },
    {
      "cell_type": "markdown",
      "metadata": {
        "id": "TtuIbtJSNCYM",
        "colab_type": "text"
      },
      "source": [
        "### 3. Datasets\n",
        "\n",
        "We will only cover this briefly, as this code will be provided for you for the coursework dataset. It is helpful to know generally how it works.\n",
        "\n",
        "**Transforms** are common image transformations which can be chained together using Compose().\n",
        "\n",
        "https://pytorch.org/docs/stable/torchvision/transforms.html"
      ]
    },
    {
      "cell_type": "code",
      "metadata": {
        "id": "zm3zlsBWRWH2",
        "colab_type": "code",
        "colab": {}
      },
      "source": [
        "from torchvision import transforms"
      ],
      "execution_count": 0,
      "outputs": []
    },
    {
      "cell_type": "code",
      "metadata": {
        "id": "rzND3DXhNCYN",
        "colab_type": "code",
        "colab": {}
      },
      "source": [
        "transform = transforms.Compose([\n",
        "    transforms.ToTensor(),\n",
        "    transforms.Normalize((0.5,), (0.5,))\n",
        "])"
      ],
      "execution_count": 0,
      "outputs": []
    },
    {
      "cell_type": "markdown",
      "metadata": {
        "id": "tWtHP1q-NCYT",
        "colab_type": "text"
      },
      "source": [
        "Certain commonly-used public datasets are available directly via PyTorch, through **torchvision.datasets**."
      ]
    },
    {
      "cell_type": "code",
      "metadata": {
        "id": "7DhlOV2ANCYU",
        "colab_type": "code",
        "colab": {}
      },
      "source": [
        "import torchvision"
      ],
      "execution_count": 0,
      "outputs": []
    },
    {
      "cell_type": "markdown",
      "metadata": {
        "id": "R5rJd9vMNCYX",
        "colab_type": "text"
      },
      "source": [
        "Listing of all available datasets here: https://pytorch.org/docs/stable/torchvision/datasets.html"
      ]
    },
    {
      "cell_type": "code",
      "metadata": {
        "id": "x3koTaOJNCYY",
        "colab_type": "code",
        "outputId": "a8c22478-73e6-4a0d-ab04-f66d5aaae0c0",
        "colab": {
          "base_uri": "https://localhost:8080/",
          "height": 383,
          "referenced_widgets": [
            "b0436a6148ec4e65adfba7cb7082fc53",
            "bbdce8f8c6224ae8a34db193956e2c50",
            "a94a10171ad3460e9e3f48469972f0e8",
            "2d4e816005274ed79a8099107c2bd002",
            "4d2e2ee2bc2949538f364f44d3f4ad7b",
            "a7b057c9e1d3458c947a9e894acf8d6a",
            "987549a9140c4b188578f52d537633da",
            "4a724c36c64f4ea9a3cc726d99934a85",
            "46e01315621f4e6a82914f650fe12c5a",
            "bd42f2617a4a4ae290b55f033591cd9b",
            "0f4fd6391e74456b8ea1c6f72bb813ac",
            "24d76fcd713c4dfa9fc97571cb232a74",
            "a3293121b22b40f2956576c124e54018",
            "a9c5f2907cbe477e8ba4ec5fe31402de",
            "68c29f1ad3e142aaa5709c5689ba7ae3",
            "4da402f501be473288f012d9527ad766",
            "3857374939c84e60b0a3b3de8b92cf17",
            "5995fb6a416a4ba991432e28d8cf2426",
            "342547b5905f4ca98a0523f4560f6d7e",
            "4736d4ee2b0e41dba738363b5ed564ba",
            "f51379bd5dea453fa052057c7d26b5af",
            "d26d86ced0854049979ab8df8cdd679d",
            "61f09a99a50f4651b0efc1918cd556c9",
            "a39370b1aae54032ab2a88bffd7901f5",
            "2f0d14dc8c4440c280da94944c1b886b",
            "917f6b12275f4dceaec51a47fef69d99",
            "4b3d31caa4b942eb86aa8a7726cb262b",
            "c742bfd182934fa98577fd2808af70bc",
            "b16ee17d567b4bdd8d17bda09e10d6e5",
            "4bf8ea515b1345fa96d56f4e7ade32ed",
            "68bdaaa20fa542d58ca1996b83309cd2",
            "e5a2a4034e6b4df3a3c2f94e640efc74"
          ]
        }
      },
      "source": [
        "# Load the datasets from PyTorch\n",
        "train_set = torchvision.datasets.MNIST(\n",
        "    root='./data',\n",
        "    train=True,\n",
        "    download=True,\n",
        "    transform=transform\n",
        ")\n",
        "\n",
        "test_set = torchvision.datasets.MNIST(\n",
        "    root='./data',\n",
        "    train=False,\n",
        "    download=True,\n",
        "    transform=transform\n",
        ")"
      ],
      "execution_count": 0,
      "outputs": [
        {
          "output_type": "stream",
          "text": [
            "Downloading http://yann.lecun.com/exdb/mnist/train-images-idx3-ubyte.gz to ./data/MNIST/raw/train-images-idx3-ubyte.gz\n"
          ],
          "name": "stdout"
        },
        {
          "output_type": "display_data",
          "data": {
            "application/vnd.jupyter.widget-view+json": {
              "model_id": "b0436a6148ec4e65adfba7cb7082fc53",
              "version_minor": 0,
              "version_major": 2
            },
            "text/plain": [
              "HBox(children=(IntProgress(value=1, bar_style='info', max=1), HTML(value='')))"
            ]
          },
          "metadata": {
            "tags": []
          }
        },
        {
          "output_type": "stream",
          "text": [
            "\n",
            "Extracting ./data/MNIST/raw/train-images-idx3-ubyte.gz to ./data/MNIST/raw\n",
            "Downloading http://yann.lecun.com/exdb/mnist/train-labels-idx1-ubyte.gz to ./data/MNIST/raw/train-labels-idx1-ubyte.gz\n"
          ],
          "name": "stdout"
        },
        {
          "output_type": "display_data",
          "data": {
            "application/vnd.jupyter.widget-view+json": {
              "model_id": "46e01315621f4e6a82914f650fe12c5a",
              "version_minor": 0,
              "version_major": 2
            },
            "text/plain": [
              "HBox(children=(IntProgress(value=1, bar_style='info', max=1), HTML(value='')))"
            ]
          },
          "metadata": {
            "tags": []
          }
        },
        {
          "output_type": "stream",
          "text": [
            "\n",
            "Extracting ./data/MNIST/raw/train-labels-idx1-ubyte.gz to ./data/MNIST/raw\n",
            "Downloading http://yann.lecun.com/exdb/mnist/t10k-images-idx3-ubyte.gz to ./data/MNIST/raw/t10k-images-idx3-ubyte.gz\n"
          ],
          "name": "stdout"
        },
        {
          "output_type": "display_data",
          "data": {
            "application/vnd.jupyter.widget-view+json": {
              "model_id": "3857374939c84e60b0a3b3de8b92cf17",
              "version_minor": 0,
              "version_major": 2
            },
            "text/plain": [
              "HBox(children=(IntProgress(value=1, bar_style='info', max=1), HTML(value='')))"
            ]
          },
          "metadata": {
            "tags": []
          }
        },
        {
          "output_type": "stream",
          "text": [
            "\n",
            "Extracting ./data/MNIST/raw/t10k-images-idx3-ubyte.gz to ./data/MNIST/raw\n",
            "Downloading http://yann.lecun.com/exdb/mnist/t10k-labels-idx1-ubyte.gz to ./data/MNIST/raw/t10k-labels-idx1-ubyte.gz\n"
          ],
          "name": "stdout"
        },
        {
          "output_type": "display_data",
          "data": {
            "application/vnd.jupyter.widget-view+json": {
              "model_id": "2f0d14dc8c4440c280da94944c1b886b",
              "version_minor": 0,
              "version_major": 2
            },
            "text/plain": [
              "HBox(children=(IntProgress(value=1, bar_style='info', max=1), HTML(value='')))"
            ]
          },
          "metadata": {
            "tags": []
          }
        },
        {
          "output_type": "stream",
          "text": [
            "\n",
            "Extracting ./data/MNIST/raw/t10k-labels-idx1-ubyte.gz to ./data/MNIST/raw\n",
            "Processing...\n",
            "Done!\n"
          ],
          "name": "stdout"
        }
      ]
    },
    {
      "cell_type": "markdown",
      "metadata": {
        "id": "_teqQ2OBNCYd",
        "colab_type": "text"
      },
      "source": [
        "If you are using a dataset not listed, you can create a custom Dataset class which will inherit the PyTorch parent Dataset class. It can then be loaded the same way."
      ]
    },
    {
      "cell_type": "markdown",
      "metadata": {
        "id": "Vk6kzSlTNCYf",
        "colab_type": "text"
      },
      "source": [
        "Data loaders are provided by **torch.utils.data** and help for easy iteration over datasets. \n",
        "\n",
        "https://pytorch.org/tutorials/beginner/data_loading_tutorial.html"
      ]
    },
    {
      "cell_type": "code",
      "metadata": {
        "id": "zfFcsImqNCYg",
        "colab_type": "code",
        "colab": {}
      },
      "source": [
        "train_loader = torch.utils.data.DataLoader(\n",
        "    train_set,\n",
        "    batch_size=16,\n",
        "    shuffle=True,\n",
        "    num_workers=2\n",
        ")\n",
        "\n",
        "\n",
        "test_loader = torch.utils.data.DataLoader(\n",
        "    test_set,\n",
        "    batch_size=24, # Forward pass only so batch size can be larger\n",
        "    shuffle=False,\n",
        "    num_workers=2\n",
        ")\n",
        "\n",
        "classes = np.arange(0, 10)"
      ],
      "execution_count": 0,
      "outputs": []
    },
    {
      "cell_type": "markdown",
      "metadata": {
        "id": "-Xd4GKasNCYi",
        "colab_type": "text"
      },
      "source": [
        "To iterate over the test set, one batch at a time, we do the following:"
      ]
    },
    {
      "cell_type": "code",
      "metadata": {
        "scrolled": true,
        "id": "BOyw1HQANCYk",
        "colab_type": "code",
        "outputId": "6d32f015-84dd-4943-aac7-00db71614622",
        "colab": {
          "base_uri": "https://localhost:8080/",
          "height": 34
        }
      },
      "source": [
        "# 24 images at a time\n",
        "for i, data in enumerate(test_loader, 0):\n",
        "    images, labels = data\n",
        "    print(\"Batch\", i, \"size:\", len(images))\n",
        "    \n",
        "    # Do stuff with the images and labels.\n",
        "    break # Terrible programming. Just for illustration."
      ],
      "execution_count": 0,
      "outputs": [
        {
          "output_type": "stream",
          "text": [
            "Batch 0 size: 24\n"
          ],
          "name": "stdout"
        }
      ]
    },
    {
      "cell_type": "markdown",
      "metadata": {
        "id": "dRHG-ADrNCYm",
        "colab_type": "text"
      },
      "source": [
        "Note that the length of a loader is the *number of batches*, not the total number of images."
      ]
    },
    {
      "cell_type": "code",
      "metadata": {
        "id": "l61vr7HANCYn",
        "colab_type": "code",
        "outputId": "f2d8f26c-6279-4500-b678-f7f9f01a28e0",
        "colab": {
          "base_uri": "https://localhost:8080/",
          "height": 34
        }
      },
      "source": [
        "len(test_loader)"
      ],
      "execution_count": 0,
      "outputs": [
        {
          "output_type": "execute_result",
          "data": {
            "text/plain": [
              "417"
            ]
          },
          "metadata": {
            "tags": []
          },
          "execution_count": 40
        }
      ]
    },
    {
      "cell_type": "markdown",
      "metadata": {
        "id": "kFl1UKe4NCYq",
        "colab_type": "text"
      },
      "source": [
        "If you want to look at the images in the set one by one, you can define a loader with batch_size of 1 and iterate over it using an iterator."
      ]
    },
    {
      "cell_type": "code",
      "metadata": {
        "id": "ram2KLh0NCYr",
        "colab_type": "code",
        "colab": {}
      },
      "source": [
        "extra_loader = torch.utils.data.DataLoader(\n",
        "    test_set,\n",
        "    batch_size=1,\n",
        "    shuffle=False,\n",
        ")\n",
        "\n",
        "iterator = iter(extra_loader)"
      ],
      "execution_count": 0,
      "outputs": []
    },
    {
      "cell_type": "code",
      "metadata": {
        "id": "qiWYqK9YNCYu",
        "colab_type": "code",
        "colab": {}
      },
      "source": [
        "# iterator.next()"
      ],
      "execution_count": 0,
      "outputs": []
    },
    {
      "cell_type": "markdown",
      "metadata": {
        "id": "Iv39kevINCYx",
        "colab_type": "text"
      },
      "source": [
        "### 4. Neural networks\n",
        "\n",
        "There are two steps:\n",
        "\n",
        "1. Define the network.\n",
        "2. Specify a loss function and optimizer.\n",
        "\n",
        "First, we recommend defining the network as a class. The **nn** or Neural Network part of PyTorch contains all the classes and functions related to defining a neural network."
      ]
    },
    {
      "cell_type": "code",
      "metadata": {
        "id": "lU997161NCYy",
        "colab_type": "code",
        "colab": {}
      },
      "source": [
        "import torch.nn as nn"
      ],
      "execution_count": 0,
      "outputs": []
    },
    {
      "cell_type": "markdown",
      "metadata": {
        "id": "RNKjJtQcNCY2",
        "colab_type": "text"
      },
      "source": [
        "Let's build a simple linear classifier.\n",
        "\n",
        "All networks should inherit from the **nn.Module** parent class: https://pytorch.org/docs/stable/nn.html#module\n",
        "\n",
        "**nn.Module** stores learnable weights and state.\n",
        "\n",
        "You will always need two functions:\n",
        "\n",
        "1. __init__, which will be called the moment you instantiate the class.\n",
        "\n",
        "2. **forward()** function which will be called during training.\n",
        "\n",
        "The documentation for all the nn.Module layers supported by PyTorch is here https://pytorch.org/docs/stable/nn.html, including:\n",
        "\n",
        "- Conv2D\n",
        "- MaxPool2D\n",
        "- ReLU\n",
        "- Dropout2D\n",
        "- many, many more.\n"
      ]
    },
    {
      "cell_type": "code",
      "metadata": {
        "id": "oeXFwo_NNCY2",
        "colab_type": "code",
        "colab": {}
      },
      "source": [
        "class LinearClassifier(nn.Module):\n",
        "    \n",
        "    def __init__(self, num_classes=10):\n",
        "        # Calls __init__() on the parent class, which is nn.Module\n",
        "        super(LinearClassifier, self).__init__()\n",
        "        \n",
        "        # Define each layer of the network as a class variable\n",
        "        # fc1 stands for first fully-connected layer\n",
        "        self.fc1 = nn.Linear(28 * 28, num_classes)\n",
        "        \n",
        "    def forward(self, x):\n",
        "        out = x.reshape(x.size(0), -1) # TODO what does this do? Why do we need it?\n",
        "        out = self.fc1(out)\n",
        "        return out"
      ],
      "execution_count": 0,
      "outputs": []
    },
    {
      "cell_type": "markdown",
      "metadata": {
        "id": "RzEDnstBW8cM",
        "colab_type": "text"
      },
      "source": [
        "You can optionally seed the Random Number Generator across all devices for testing purposes."
      ]
    },
    {
      "cell_type": "code",
      "metadata": {
        "id": "MaNZ5hzdXHly",
        "colab_type": "code",
        "outputId": "a2913e8f-9ebb-4ead-ec0e-3d8d02228f6d",
        "colab": {
          "base_uri": "https://localhost:8080/",
          "height": 34
        }
      },
      "source": [
        "torch.manual_seed(0)"
      ],
      "execution_count": 0,
      "outputs": [
        {
          "output_type": "execute_result",
          "data": {
            "text/plain": [
              "<torch._C.Generator at 0x7fd274b82030>"
            ]
          },
          "metadata": {
            "tags": []
          },
          "execution_count": 43
        }
      ]
    },
    {
      "cell_type": "markdown",
      "metadata": {
        "id": "XK82t7xsNCY5",
        "colab_type": "text"
      },
      "source": [
        "We can now create a classifier instance."
      ]
    },
    {
      "cell_type": "code",
      "metadata": {
        "id": "9c8chSInNCY7",
        "colab_type": "code",
        "outputId": "3bf7d616-c190-4462-a3bd-77188ff31be5",
        "colab": {
          "base_uri": "https://localhost:8080/",
          "height": 68
        }
      },
      "source": [
        "model = LinearClassifier()\n",
        "model"
      ],
      "execution_count": 0,
      "outputs": [
        {
          "output_type": "execute_result",
          "data": {
            "text/plain": [
              "LinearClassifier(\n",
              "  (fc1): Linear(in_features=784, out_features=10, bias=True)\n",
              ")"
            ]
          },
          "metadata": {
            "tags": []
          },
          "execution_count": 44
        }
      ]
    },
    {
      "cell_type": "markdown",
      "metadata": {
        "id": "7XGVFLV_NCZA",
        "colab_type": "text"
      },
      "source": [
        "The layers can be accessed directly and so can their parameters!"
      ]
    },
    {
      "cell_type": "code",
      "metadata": {
        "id": "O6t708i3NCZB",
        "colab_type": "code",
        "outputId": "dbe4a2f6-26a6-48e6-b2f6-e5129fed6700",
        "colab": {
          "base_uri": "https://localhost:8080/",
          "height": 34
        }
      },
      "source": [
        "model.fc1"
      ],
      "execution_count": 0,
      "outputs": [
        {
          "output_type": "execute_result",
          "data": {
            "text/plain": [
              "Linear(in_features=784, out_features=10, bias=True)"
            ]
          },
          "metadata": {
            "tags": []
          },
          "execution_count": 45
        }
      ]
    },
    {
      "cell_type": "code",
      "metadata": {
        "id": "MYXIDYrZXl0Q",
        "colab_type": "code",
        "outputId": "7ea3bcad-922f-4f8c-a918-d24c6be6cc66",
        "colab": {
          "base_uri": "https://localhost:8080/",
          "height": 170
        }
      },
      "source": [
        "model.fc1.weight"
      ],
      "execution_count": 0,
      "outputs": [
        {
          "output_type": "execute_result",
          "data": {
            "text/plain": [
              "Parameter containing:\n",
              "tensor([[-0.0003,  0.0192, -0.0294,  ...,  0.0219,  0.0037,  0.0021],\n",
              "        [-0.0198, -0.0150, -0.0104,  ..., -0.0203, -0.0060, -0.0299],\n",
              "        [-0.0201,  0.0149, -0.0333,  ..., -0.0203,  0.0012,  0.0080],\n",
              "        ...,\n",
              "        [ 0.0237,  0.0103, -0.0219,  ...,  0.0088, -0.0009,  0.0009],\n",
              "        [ 0.0144, -0.0336, -0.0346,  ..., -0.0222, -0.0025, -0.0138],\n",
              "        [-0.0196, -0.0118,  0.0230,  ..., -0.0202,  0.0172,  0.0355]],\n",
              "       requires_grad=True)"
            ]
          },
          "metadata": {
            "tags": []
          },
          "execution_count": 46
        }
      ]
    },
    {
      "cell_type": "markdown",
      "metadata": {
        "id": "z0ULZhy7NCZF",
        "colab_type": "text"
      },
      "source": [
        "Now define the loss and optimiser.\n",
        "\n",
        "\n",
        "- Optimisers https://pytorch.org/docs/stable/optim.html\n",
        "- Loss functions https://pytorch.org/docs/stable/nn.html#loss-functions"
      ]
    },
    {
      "cell_type": "code",
      "metadata": {
        "id": "3Tl2gtwrRzbF",
        "colab_type": "code",
        "colab": {}
      },
      "source": [
        "from torch import optim"
      ],
      "execution_count": 0,
      "outputs": []
    },
    {
      "cell_type": "code",
      "metadata": {
        "id": "MUv3eFyZNCZG",
        "colab_type": "code",
        "colab": {}
      },
      "source": [
        "criterion = nn.CrossEntropyLoss()\n",
        "\n",
        "# Stochastic gradient descent\n",
        "optimizer = optim.SGD(model.parameters(), lr=0.001, momentum=0.9)"
      ],
      "execution_count": 0,
      "outputs": []
    },
    {
      "cell_type": "markdown",
      "metadata": {
        "id": "4drUKnKUNCZN",
        "colab_type": "text"
      },
      "source": [
        "### 5. Training"
      ]
    },
    {
      "cell_type": "markdown",
      "metadata": {
        "id": "AZKUwo9GNCZO",
        "colab_type": "text"
      },
      "source": [
        "During training, we iterate over a fixed number of epochs. An epoch is *one complete iteration through the entire training set.* \n",
        "\n",
        "You can either fix the number of epochs to train for, or can dynamically determine when to stop training. Alternately, you can checkpoint frequently over a large fixed number of epochs and then determine the best model later. \n",
        "\n",
        "It is highly advised to use a validation set (not shown here)."
      ]
    },
    {
      "cell_type": "code",
      "metadata": {
        "id": "aeT50Y6vNCZP",
        "colab_type": "code",
        "colab": {}
      },
      "source": [
        "import timeit"
      ],
      "execution_count": 0,
      "outputs": []
    },
    {
      "cell_type": "code",
      "metadata": {
        "id": "Bebl4o0eNCZU",
        "colab_type": "code",
        "colab": {}
      },
      "source": [
        "def train_model_epochs(num_epochs):\n",
        "    \"\"\" Trains the model for a given number of epochs on the training set. \"\"\"\n",
        "    for epoch in range(num_epochs):\n",
        "\n",
        "        running_loss = 0.0\n",
        "        for i, data in enumerate(train_loader, 0):\n",
        "            images, labels = data\n",
        "\n",
        "            # Zero the parameter gradients means to reset them from\n",
        "            # any previous values. By default, gradients accumulate!\n",
        "            optimizer.zero_grad()\n",
        "\n",
        "            # Passing inputs to the model calls the forward() function of\n",
        "            # the Module class, and the outputs value contains the return value\n",
        "            # of forward()\n",
        "            outputs = model(images)\n",
        "\n",
        "            # Compute the loss based on the true labels\n",
        "            loss = criterion(outputs, labels)\n",
        "\n",
        "            # Backpropagate the error with respect to the loss\n",
        "            loss.backward()\n",
        "\n",
        "            # Updates the parameters based on current gradients and update rule;\n",
        "            # in this case, defined by SGD()\n",
        "            optimizer.step()\n",
        "\n",
        "            # Print our loss\n",
        "            running_loss += loss.item()\n",
        "            if i % 1000 == 999:    # print every 1000 mini-batches\n",
        "                print('Epoch / Batch [%d / %d] - Loss: %.3f' %\n",
        "                      (epoch + 1, i + 1, running_loss / 1000))\n",
        "                running_loss = 0.0"
      ],
      "execution_count": 0,
      "outputs": []
    },
    {
      "cell_type": "markdown",
      "metadata": {
        "id": "qOQvKBUWNCZX",
        "colab_type": "text"
      },
      "source": [
        "Train and time."
      ]
    },
    {
      "cell_type": "code",
      "metadata": {
        "id": "7T5iAlujNCZY",
        "colab_type": "code",
        "outputId": "3dd0daf8-cc08-4ea5-afb3-cebbe17d3228",
        "colab": {
          "base_uri": "https://localhost:8080/",
          "height": 731
        }
      },
      "source": [
        "# train_model_epochs(num_epochs)\n",
        "\n",
        "cpu_train_time = timeit.timeit(\n",
        "    \"train_model_epochs(num_epochs)\",\n",
        "    setup=\"num_epochs=6\",\n",
        "    number=1,\n",
        "    globals=globals(),\n",
        ")"
      ],
      "execution_count": 0,
      "outputs": [
        {
          "output_type": "stream",
          "text": [
            "Epoch / Batch [1 / 1000] - Loss: 0.665\n",
            "Epoch / Batch [1 / 2000] - Loss: 0.417\n",
            "Epoch / Batch [1 / 3000] - Loss: 0.388\n",
            "Epoch / Batch [1 / 4000] - Loss: 0.353\n",
            "Epoch / Batch [1 / 5000] - Loss: 0.340\n",
            "Epoch / Batch [1 / 6000] - Loss: 0.327\n",
            "Epoch / Batch [1 / 7000] - Loss: 0.346\n",
            "Epoch / Batch [2 / 1000] - Loss: 0.324\n",
            "Epoch / Batch [2 / 2000] - Loss: 0.341\n",
            "Epoch / Batch [2 / 3000] - Loss: 0.317\n",
            "Epoch / Batch [2 / 4000] - Loss: 0.335\n",
            "Epoch / Batch [2 / 5000] - Loss: 0.305\n",
            "Epoch / Batch [2 / 6000] - Loss: 0.306\n",
            "Epoch / Batch [2 / 7000] - Loss: 0.315\n",
            "Epoch / Batch [3 / 1000] - Loss: 0.305\n",
            "Epoch / Batch [3 / 2000] - Loss: 0.308\n",
            "Epoch / Batch [3 / 3000] - Loss: 0.304\n",
            "Epoch / Batch [3 / 4000] - Loss: 0.314\n",
            "Epoch / Batch [3 / 5000] - Loss: 0.289\n",
            "Epoch / Batch [3 / 6000] - Loss: 0.317\n",
            "Epoch / Batch [3 / 7000] - Loss: 0.309\n",
            "Epoch / Batch [4 / 1000] - Loss: 0.270\n",
            "Epoch / Batch [4 / 2000] - Loss: 0.298\n",
            "Epoch / Batch [4 / 3000] - Loss: 0.302\n",
            "Epoch / Batch [4 / 4000] - Loss: 0.309\n",
            "Epoch / Batch [4 / 5000] - Loss: 0.299\n",
            "Epoch / Batch [4 / 6000] - Loss: 0.308\n",
            "Epoch / Batch [4 / 7000] - Loss: 0.305\n",
            "Epoch / Batch [5 / 1000] - Loss: 0.284\n",
            "Epoch / Batch [5 / 2000] - Loss: 0.282\n",
            "Epoch / Batch [5 / 3000] - Loss: 0.298\n",
            "Epoch / Batch [5 / 4000] - Loss: 0.302\n",
            "Epoch / Batch [5 / 5000] - Loss: 0.288\n",
            "Epoch / Batch [5 / 6000] - Loss: 0.313\n",
            "Epoch / Batch [5 / 7000] - Loss: 0.285\n",
            "Epoch / Batch [6 / 1000] - Loss: 0.281\n",
            "Epoch / Batch [6 / 2000] - Loss: 0.299\n",
            "Epoch / Batch [6 / 3000] - Loss: 0.281\n",
            "Epoch / Batch [6 / 4000] - Loss: 0.275\n",
            "Epoch / Batch [6 / 5000] - Loss: 0.290\n",
            "Epoch / Batch [6 / 6000] - Loss: 0.308\n",
            "Epoch / Batch [6 / 7000] - Loss: 0.314\n"
          ],
          "name": "stdout"
        }
      ]
    },
    {
      "cell_type": "code",
      "metadata": {
        "id": "Qsug7r1wNCZd",
        "colab_type": "code",
        "outputId": "580cda2c-93d5-4508-9a3f-eada0f639f92",
        "colab": {
          "base_uri": "https://localhost:8080/",
          "height": 34
        }
      },
      "source": [
        "cpu_train_time"
      ],
      "execution_count": 0,
      "outputs": [
        {
          "output_type": "execute_result",
          "data": {
            "text/plain": [
              "111.31756184400001"
            ]
          },
          "metadata": {
            "tags": []
          },
          "execution_count": 52
        }
      ]
    },
    {
      "cell_type": "markdown",
      "metadata": {
        "id": "TE_n0h8rNCZg",
        "colab_type": "text"
      },
      "source": [
        "How does the classifier perform on the test set?"
      ]
    },
    {
      "cell_type": "code",
      "metadata": {
        "id": "O4mUuwllNCZh",
        "colab_type": "code",
        "outputId": "cdb46bb4-a8ef-43e2-b6ec-f9873f1d9904",
        "colab": {
          "base_uri": "https://localhost:8080/",
          "height": 68
        }
      },
      "source": [
        "correct = 0\n",
        "total = 0\n",
        "\n",
        "# Why don't we need gradients? What happens if we do include gradients?\n",
        "with torch.no_grad():\n",
        "    \n",
        "    # Iterate over the test set\n",
        "    for data in test_loader:\n",
        "        images, labels = data\n",
        "        \n",
        "        outputs = model(images)\n",
        "        \n",
        "        # torch.max is an argmax operation\n",
        "        _, predicted = torch.max(outputs.data, 1)\n",
        "        \n",
        "        total += labels.size(0)\n",
        "        correct += (predicted == labels).sum().item()\n",
        "print(\"correct: %d\" % correct)\n",
        "print(\"total: %d\" % total)\n",
        "print('Accuracy of the network on the test images: %d %%' % (100 * correct / total))"
      ],
      "execution_count": 0,
      "outputs": [
        {
          "output_type": "stream",
          "text": [
            "correct: 9204\n",
            "total: 10000\n",
            "Accuracy of the network on the test images: 92 %\n"
          ],
          "name": "stdout"
        }
      ]
    },
    {
      "cell_type": "code",
      "metadata": {
        "id": "yhHibm8lHAHh",
        "colab_type": "code",
        "outputId": "6f8cff22-583a-4205-ffc9-f778a558f324",
        "colab": {
          "base_uri": "https://localhost:8080/",
          "height": 34
        }
      },
      "source": [
        "labels"
      ],
      "execution_count": 0,
      "outputs": [
        {
          "output_type": "execute_result",
          "data": {
            "text/plain": [
              "tensor([1, 2, 3, 4, 5, 6, 7, 8, 9, 0, 1, 2, 3, 4, 5, 6])"
            ]
          },
          "metadata": {
            "tags": []
          },
          "execution_count": 54
        }
      ]
    },
    {
      "cell_type": "code",
      "metadata": {
        "id": "5yd7PUDNHCIf",
        "colab_type": "code",
        "outputId": "0e299982-f36c-46c3-c109-ce42e55bdc75",
        "colab": {
          "base_uri": "https://localhost:8080/",
          "height": 34
        }
      },
      "source": [
        "predicted"
      ],
      "execution_count": 0,
      "outputs": [
        {
          "output_type": "execute_result",
          "data": {
            "text/plain": [
              "tensor([1, 2, 8, 4, 5, 6, 7, 8, 9, 0, 1, 2, 3, 4, 5, 6])"
            ]
          },
          "metadata": {
            "tags": []
          },
          "execution_count": 55
        }
      ]
    },
    {
      "cell_type": "markdown",
      "metadata": {
        "id": "Coz8pxUANCZj",
        "colab_type": "text"
      },
      "source": [
        "You can save and reload models. Torch models are checkpoint files.\n",
        "\n",
        "https://pytorch.org/tutorials/beginner/saving_loading_models.html"
      ]
    },
    {
      "cell_type": "code",
      "metadata": {
        "id": "IZlfdUZTNCZj",
        "colab_type": "code",
        "outputId": "7bb4f06c-24f2-4b1a-d02a-91ab236e1de9",
        "colab": {
          "base_uri": "https://localhost:8080/",
          "height": 71
        }
      },
      "source": [
        "torch.save(model, './my_mnist_model.pt') "
      ],
      "execution_count": 0,
      "outputs": [
        {
          "output_type": "stream",
          "text": [
            "/usr/local/lib/python3.6/dist-packages/torch/serialization.py:360: UserWarning: Couldn't retrieve source code for container of type LinearClassifier. It won't be checked for correctness upon loading.\n",
            "  \"type \" + obj.__name__ + \". It won't be checked \"\n"
          ],
          "name": "stderr"
        }
      ]
    },
    {
      "cell_type": "markdown",
      "metadata": {
        "id": "u7EJ12-hNCZq",
        "colab_type": "text"
      },
      "source": [
        "Accuracy and confusion matrix."
      ]
    },
    {
      "cell_type": "code",
      "metadata": {
        "id": "4m7qvfYnNCZr",
        "colab_type": "code",
        "colab": {}
      },
      "source": [
        "from sklearn.metrics import confusion_matrix\n",
        "import matplotlib.pyplot as plt"
      ],
      "execution_count": 0,
      "outputs": []
    },
    {
      "cell_type": "code",
      "metadata": {
        "id": "jp872eJeNCZx",
        "colab_type": "code",
        "colab": {}
      },
      "source": [
        "cm = confusion_matrix(labels, predicted)"
      ],
      "execution_count": 0,
      "outputs": []
    },
    {
      "cell_type": "code",
      "metadata": {
        "id": "h9_DcVx_NCZ1",
        "colab_type": "code",
        "outputId": "f88092b3-c0b6-4a40-ea90-63205c1d8352",
        "colab": {
          "base_uri": "https://localhost:8080/",
          "height": 187
        }
      },
      "source": [
        "cm"
      ],
      "execution_count": 0,
      "outputs": [
        {
          "output_type": "execute_result",
          "data": {
            "text/plain": [
              "array([[1, 0, 0, 0, 0, 0, 0, 0, 0, 0],\n",
              "       [0, 2, 0, 0, 0, 0, 0, 0, 0, 0],\n",
              "       [0, 0, 2, 0, 0, 0, 0, 0, 0, 0],\n",
              "       [0, 0, 0, 1, 0, 0, 0, 0, 1, 0],\n",
              "       [0, 0, 0, 0, 2, 0, 0, 0, 0, 0],\n",
              "       [0, 0, 0, 0, 0, 2, 0, 0, 0, 0],\n",
              "       [0, 0, 0, 0, 0, 0, 2, 0, 0, 0],\n",
              "       [0, 0, 0, 0, 0, 0, 0, 1, 0, 0],\n",
              "       [0, 0, 0, 0, 0, 0, 0, 0, 1, 0],\n",
              "       [0, 0, 0, 0, 0, 0, 0, 0, 0, 1]])"
            ]
          },
          "metadata": {
            "tags": []
          },
          "execution_count": 40
        }
      ]
    },
    {
      "cell_type": "markdown",
      "metadata": {
        "id": "kzAO6TKKNCZ7",
        "colab_type": "text"
      },
      "source": [
        "Let's make it easier for viewing."
      ]
    },
    {
      "cell_type": "code",
      "metadata": {
        "id": "KV8zssFoNCZ8",
        "colab_type": "code",
        "colab": {}
      },
      "source": [
        "import itertools\n",
        "\n",
        "def plot_confusion_matrix(cm,\n",
        "                          classes,\n",
        "                          normalize=False,\n",
        "                          title='Confusion matrix',\n",
        "                          cmap=plt.cm.Blues):\n",
        "    \"\"\"\n",
        "    This function prints and plots the confusion matrix very prettily.\n",
        "    Normalization can be applied by setting `normalize=True`.\n",
        "    \"\"\"\n",
        "    if normalize:\n",
        "        cm = cm.astype('float') / cm.sum(axis=1)[:, np.newaxis]\n",
        "        print(\"Normalized confusion matrix\")\n",
        "    else:\n",
        "        print('Confusion matrix, without normalization')\n",
        "\n",
        "    plt.imshow(cm, interpolation='nearest', cmap=cmap)\n",
        "    plt.title(title)\n",
        "\n",
        "    # Specify the tick marks and axis text\n",
        "    tick_marks = np.arange(len(classes))\n",
        "    plt.xticks(tick_marks, classes, rotation=90)\n",
        "    plt.yticks(tick_marks, classes)\n",
        "\n",
        "    # The data formatting\n",
        "    fmt = '.2f' if normalize else 'd'\n",
        "    thresh = cm.max() / 2.\n",
        "    \n",
        "    # Print the text of the matrix, adjusting text colour for display\n",
        "    for i, j in itertools.product(range(cm.shape[0]), range(cm.shape[1])):\n",
        "        plt.text(j, i, format(cm[i, j], fmt),\n",
        "                 horizontalalignment=\"center\",\n",
        "                 color=\"white\" if cm[i, j] > thresh else \"black\")\n",
        "\n",
        "    plt.ylabel('True label')\n",
        "    plt.xlabel('Predicted label')\n",
        "    plt.tight_layout()\n",
        "    plt.show()"
      ],
      "execution_count": 0,
      "outputs": []
    },
    {
      "cell_type": "code",
      "metadata": {
        "id": "ytZnFKgZNCaB",
        "colab_type": "code",
        "outputId": "9bc9a7a6-471c-4406-e187-ebe55650a368",
        "colab": {
          "base_uri": "https://localhost:8080/",
          "height": 314
        }
      },
      "source": [
        "plot_confusion_matrix(cm, classes)"
      ],
      "execution_count": 0,
      "outputs": [
        {
          "output_type": "stream",
          "text": [
            "Confusion matrix, without normalization\n"
          ],
          "name": "stdout"
        },
        {
          "output_type": "display_data",
          "data": {
            "image/png": "[encoded data removed]",
            "text/plain": [
              "<Figure size 432x288 with 1 Axes>"
            ]
          },
          "metadata": {
            "tags": []
          }
        }
      ]
    },
    {
      "cell_type": "markdown",
      "metadata": {
        "id": "YYdbep8GNCaF",
        "colab_type": "text"
      },
      "source": [
        "### 5b (optional) Training on a GPU\n",
        "\n",
        "One of the main advantages that Tensors have over NumPy arrays, and which make them so powerful, is that they can be easily moved to a GPU.\n",
        "\n",
        "Why GPU?\n",
        "\n",
        "- many cores = faster at parallel tasks\n",
        "- CPU vs GPU benchmarks training a CNN https://github.com/jcjohnson/cnn-benchmarks\n",
        "\n",
        "Where's the data?\n",
        "Where's the model?\n",
        "Where does the data go when you train the model?\n",
        "\n",
        "![computer.png](https://drive.google.com/uc?id=11uBHkC5tznLhNIGAn0mrggSC2LMEXlYC)\n",
        "\n"
      ]
    },
    {
      "cell_type": "markdown",
      "metadata": {
        "id": "acW0dypgNCaG",
        "colab_type": "text"
      },
      "source": [
        "First get PyTorch to find the device available."
      ]
    },
    {
      "cell_type": "code",
      "metadata": {
        "id": "TTJsIcvbNCaH",
        "colab_type": "code",
        "outputId": "a7238d79-6326-4b03-e7b9-a69a30c12c2d",
        "colab": {
          "base_uri": "https://localhost:8080/",
          "height": 34
        }
      },
      "source": [
        "# Device configuration - defaults to CPU unless GPU is available on device\n",
        "device = torch.device('cuda:0' if torch.cuda.is_available() else 'cpu')\n",
        "device"
      ],
      "execution_count": 0,
      "outputs": [
        {
          "output_type": "execute_result",
          "data": {
            "text/plain": [
              "device(type='cuda', index=0)"
            ]
          },
          "metadata": {
            "tags": []
          },
          "execution_count": 43
        }
      ]
    },
    {
      "cell_type": "markdown",
      "metadata": {
        "id": "iKsjBcL-NCaJ",
        "colab_type": "text"
      },
      "source": [
        "How do we put the **model** on the GPU?"
      ]
    },
    {
      "cell_type": "code",
      "metadata": {
        "id": "HMQzKKe4NCaK",
        "colab_type": "code",
        "colab": {}
      },
      "source": [
        "model_gpu = LinearClassifier().to(device)"
      ],
      "execution_count": 0,
      "outputs": []
    },
    {
      "cell_type": "markdown",
      "metadata": {
        "id": "4zJYcHCfNCaQ",
        "colab_type": "text"
      },
      "source": [
        "How do we put the **data** on the GPU? (Below code is a copy of the training code above, just simplified without comments and loss printing.)"
      ]
    },
    {
      "cell_type": "code",
      "metadata": {
        "id": "6fq3hndyNCaR",
        "colab_type": "code",
        "colab": {}
      },
      "source": [
        "def train_model_epochs2(num_epochs):\n",
        "    \"\"\" Copy of function train_model_epochs but explicitly copying data to device \n",
        "        during training. \n",
        "    \"\"\"\n",
        "    for epoch in range(num_epochs):\n",
        "\n",
        "        running_loss = 0.0\n",
        "        for i, data in enumerate(train_loader, 0):\n",
        "            images, labels = data\n",
        "\n",
        "            # Explicitly specifies that data is to be copied onto the device!\n",
        "            images = images.to(device)  # <----------- And note it's NOT an in-place operation; original\n",
        "            labels = labels.to(device)  # <----------- variables still exist on CPU\n",
        "\n",
        "            optimizer.zero_grad()\n",
        "            outputs = model_gpu(images)\n",
        "\n",
        "            loss = criterion(outputs, labels)\n",
        "            loss.backward()\n",
        "\n",
        "            optimizer.step()\n",
        "            running_loss += loss.item()\n",
        "            if i % 1000 == 999:    # print every 1000 mini-batches\n",
        "                print('Epoch / Batch [%d / %d] - Loss: %.3f' %\n",
        "                      (epoch + 1, i + 1, running_loss / 1000))\n",
        "                running_loss = 0.0"
      ],
      "execution_count": 0,
      "outputs": []
    },
    {
      "cell_type": "markdown",
      "metadata": {
        "id": "BJ4fN7UKcsQS",
        "colab_type": "text"
      },
      "source": [
        "Train an identical second model on the GPU."
      ]
    },
    {
      "cell_type": "code",
      "metadata": {
        "id": "2UyKM5Z9NCaU",
        "colab_type": "code",
        "colab": {}
      },
      "source": [
        "# gpu_train_time = timeit.timeit(\n",
        "#     \"train_model_epochs2(num_epochs)\",\n",
        "#     setup=\"num_epochs=6\",\n",
        "#     number=1,\n",
        "#     globals=globals(),\n",
        "# )"
      ],
      "execution_count": 0,
      "outputs": []
    },
    {
      "cell_type": "markdown",
      "metadata": {
        "id": "c19bEzAIX3Vq",
        "colab_type": "text"
      },
      "source": [
        "Feel free to compare **cpu_train_time** with **gpu_train_time**, keeping in mind that an inappropriate batch size may give you surprising results! Remember that copying data to the GPU also has an overhead.\n",
        "\n",
        "For those curious about optimisation on a GPU, NVidia's article on [NVidia's Deep Learning Performance Guide](https://docs.nvidia.com/deeplearning/sdk/dl-performance-guide/index.html) is helpful."
      ]
    },
    {
      "cell_type": "code",
      "metadata": {
        "id": "bbdD8W2YVpSV",
        "colab_type": "code",
        "colab": {}
      },
      "source": [
        ""
      ],
      "execution_count": 0,
      "outputs": []
    },
    {
      "cell_type": "code",
      "metadata": {
        "id": "_ve5aTtfXWKQ",
        "colab_type": "code",
        "colab": {}
      },
      "source": [
        ""
      ],
      "execution_count": 0,
      "outputs": []
    }
  ]
}