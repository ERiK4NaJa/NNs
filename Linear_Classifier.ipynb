{
  "nbformat": 4,
  "nbformat_minor": 0,
  "metadata": {
    "kernelspec": {
      "display_name": "Python 3",
      "language": "python",
      "name": "python3"
    },
    "language_info": {
      "codemirror_mode": {
        "name": "ipython",
        "version": 3
      },
      "file_extension": ".py",
      "mimetype": "text/x-python",
      "name": "python",
      "nbconvert_exporter": "python",
      "pygments_lexer": "ipython3",
      "version": "3.6.8"
    },
    "colab": {
      "name": "Linear Classifier.ipynb",
      "provenance": [],
      "include_colab_link": true
    }
  },
  "cells": [
    {
      "cell_type": "markdown",
      "metadata": {
        "id": "view-in-github",
        "colab_type": "text"
      },
      "source": [
        "<a href=\"https://colab.research.google.com/github/HurleyJames/GoogleColabExercise/blob/master/Linear_Classifier.ipynb\" target=\"_parent\"><img src=\"https://colab.research.google.com/assets/colab-badge.svg\" alt=\"Open In Colab\"/></a>"
      ]
    },
    {
      "cell_type": "markdown",
      "metadata": {
        "id": "gKtVOsBpUXSR",
        "colab_type": "text"
      },
      "source": [
        "Train a multiclass linear classifier on the CIFAR10 dataset."
      ]
    },
    {
      "cell_type": "code",
      "metadata": {
        "id": "Ma9yr-ZnUXSU",
        "colab_type": "code",
        "colab": {}
      },
      "source": [
        "#from __future__ import print_function\n",
        "import numpy as np\n",
        "import tensorflow as tf\n",
        "from tensorflow import keras\n",
        "\n",
        "from tensorflow.keras.datasets import mnist, cifar10\n",
        "from tensorflow.keras.models import Sequential\n",
        "from tensorflow.keras.layers import Dense, Dropout, Activation, Flatten\n",
        "from tensorflow.keras.layers import Conv2D, MaxPooling2D\n",
        "\n",
        "import matplotlib.pyplot as plt\n",
        "import os\n",
        "%matplotlib inline\n"
      ],
      "execution_count": 0,
      "outputs": []
    },
    {
      "cell_type": "code",
      "metadata": {
        "id": "UfFo3ZTzUXSY",
        "colab_type": "code",
        "outputId": "a3610b85-ca09-4f3d-83fe-6cb2e15cc722",
        "colab": {
          "base_uri": "https://localhost:8080/",
          "height": 1000
        }
      },
      "source": [
        "batch_size = 32\n",
        "num_classes = 10\n",
        "epochs = 10\n",
        "\n",
        "# The data, shuffled and split between train and test sets:\n",
        "(x_train, y_train), (x_test, y_test) = tf.keras.datasets.mnist.load_data()\n",
        "print('x_train shape:', x_train.shape)\n",
        "print(x_train.shape[0], 'train samples')\n",
        "print(x_test.shape[0], 'test samples')\n",
        "\n",
        "# Convert class vectors to binary class matrices.\n",
        "y_train = keras.utils.to_categorical(y_train, num_classes)\n",
        "y_test = keras.utils.to_categorical(y_test, num_classes)\n",
        "\n",
        "model = Sequential()\n",
        "model.add(Flatten())\n",
        "#model.add(Dropout(0.5))\n",
        "model.add(Dense(num_classes))\n",
        "model.add(Activation('softmax'))\n",
        "\n",
        "# initiate RMSprop optimizer\n",
        "opt = keras.optimizers.RMSprop(lr=0.0001, decay=1e-6)\n",
        "\n",
        "# Let's train the model using RMSprop\n",
        "model.compile(loss='categorical_crossentropy',\n",
        "              optimizer=opt,\n",
        "              metrics=['accuracy'])\n",
        "\n",
        "x_train = x_train.astype('float32')\n",
        "x_test = x_test.astype('float32')\n",
        "x_train = x_train/255\n",
        "x_test = x_test/255\n",
        "\n",
        "history = model.fit(x_train, y_train,\n",
        "              batch_size=batch_size,\n",
        "              epochs=epochs,\n",
        "              validation_data=(x_test, y_test),\n",
        "              shuffle=True)\n",
        "\n",
        "# Score trained model.\n",
        "scores = model.evaluate(x_test, y_test, verbose=1)\n",
        "print('Test loss:', scores[0])\n",
        "print('Test accuracy:', scores[1])\n",
        "\n",
        "# list all data in history\n",
        "print(history.history.keys())\n",
        "# summarize history for accuracy\n",
        "plt.plot(history.history['acc'])\n",
        "plt.plot(history.history['val_acc'])\n",
        "plt.title('model accuracy')\n",
        "plt.ylabel('accuracy')\n",
        "plt.xlabel('epoch')\n",
        "plt.legend(['train', 'test'], loc='upper left')\n",
        "plt.show()\n",
        "# summarize history for loss\n",
        "plt.plot(history.history['loss'])\n",
        "plt.plot(history.history['val_loss'])\n",
        "plt.title('model loss')\n",
        "plt.ylabel('loss')\n",
        "plt.xlabel('epoch')\n",
        "plt.legend(['train', 'test'], loc='upper left')\n",
        "plt.show()"
      ],
      "execution_count": 0,
      "outputs": [
        {
          "output_type": "stream",
          "text": [
            "x_train shape: (60000, 28, 28)\n",
            "60000 train samples\n",
            "10000 test samples\n",
            "Train on 60000 samples, validate on 10000 samples\n",
            "Epoch 1/10\n",
            "60000/60000 [==============================] - 3s 51us/sample - loss: 1.0808 - acc: 0.7385 - val_loss: 0.5738 - val_acc: 0.8684\n",
            "Epoch 2/10\n",
            "60000/60000 [==============================] - 3s 49us/sample - loss: 0.4999 - acc: 0.8742 - val_loss: 0.4199 - val_acc: 0.8924\n",
            "Epoch 3/10\n",
            "60000/60000 [==============================] - 3s 49us/sample - loss: 0.4096 - acc: 0.8900 - val_loss: 0.3696 - val_acc: 0.9028\n",
            "Epoch 4/10\n",
            "60000/60000 [==============================] - 3s 48us/sample - loss: 0.3717 - acc: 0.8981 - val_loss: 0.3448 - val_acc: 0.9077\n",
            "Epoch 5/10\n",
            "60000/60000 [==============================] - 3s 49us/sample - loss: 0.3503 - acc: 0.9030 - val_loss: 0.3288 - val_acc: 0.9103\n",
            "Epoch 6/10\n",
            "60000/60000 [==============================] - 3s 48us/sample - loss: 0.3362 - acc: 0.9063 - val_loss: 0.3180 - val_acc: 0.9137\n",
            "Epoch 7/10\n",
            "60000/60000 [==============================] - 3s 48us/sample - loss: 0.3263 - acc: 0.9085 - val_loss: 0.3100 - val_acc: 0.9148\n",
            "Epoch 8/10\n",
            "60000/60000 [==============================] - 3s 48us/sample - loss: 0.3188 - acc: 0.9104 - val_loss: 0.3050 - val_acc: 0.9159\n",
            "Epoch 9/10\n",
            "60000/60000 [==============================] - 3s 49us/sample - loss: 0.3129 - acc: 0.9121 - val_loss: 0.3011 - val_acc: 0.9158\n",
            "Epoch 10/10\n",
            "60000/60000 [==============================] - 3s 49us/sample - loss: 0.3080 - acc: 0.9139 - val_loss: 0.2967 - val_acc: 0.9181\n",
            "10000/10000 [==============================] - 0s 27us/sample - loss: 0.2967 - acc: 0.9181\n",
            "Test loss: 0.2966593714952469\n",
            "Test accuracy: 0.9181\n",
            "dict_keys(['loss', 'acc', 'val_loss', 'val_acc'])\n"
          ],
          "name": "stdout"
        },
        {
          "output_type": "display_data",
          "data": {
            "image/png": "[encoded data removed]",
            "text/plain": [
              "<Figure size 432x288 with 1 Axes>"
            ]
          },
          "metadata": {
            "tags": []
          }
        },
        {
          "output_type": "display_data",
          "data": {
            "image/png": "[encoded data removed]",
            "text/plain": [
              "<Figure size 432x288 with 1 Axes>"
            ]
          },
          "metadata": {
            "tags": []
          }
        }
      ]
    },
    {
      "cell_type": "code",
      "metadata": {
        "id": "yfn6dSh9UXSc",
        "colab_type": "code",
        "colab": {}
      },
      "source": [
        ""
      ],
      "execution_count": 0,
      "outputs": []
    },
    {
      "cell_type": "code",
      "metadata": {
        "id": "JJT70e0dUXSf",
        "colab_type": "code",
        "colab": {}
      },
      "source": [
        "# history()"
      ],
      "execution_count": 0,
      "outputs": []
    },
    {
      "cell_type": "code",
      "metadata": {
        "id": "9jELA4q-UXSi",
        "colab_type": "code",
        "outputId": "3af9d364-009e-453c-e33e-06474774f011",
        "colab": {
          "base_uri": "https://localhost:8080/",
          "height": 697
        }
      },
      "source": [
        "history.history"
      ],
      "execution_count": 0,
      "outputs": [
        {
          "output_type": "execute_result",
          "data": {
            "text/plain": [
              "{'acc': [0.7384833,\n",
              "  0.87418336,\n",
              "  0.89005,\n",
              "  0.89811665,\n",
              "  0.9029667,\n",
              "  0.9062667,\n",
              "  0.90853333,\n",
              "  0.91041666,\n",
              "  0.91211665,\n",
              "  0.91393334],\n",
              " 'loss': [1.0808088469187418,\n",
              "  0.49993621060848237,\n",
              "  0.40956850295861563,\n",
              "  0.3717004458665848,\n",
              "  0.35030398622751235,\n",
              "  0.33624429000616074,\n",
              "  0.32633275642196335,\n",
              "  0.3187760640263557,\n",
              "  0.31287282100319863,\n",
              "  0.3080314559320609],\n",
              " 'val_acc': [0.8684,\n",
              "  0.8924,\n",
              "  0.9028,\n",
              "  0.9077,\n",
              "  0.9103,\n",
              "  0.9137,\n",
              "  0.9148,\n",
              "  0.9159,\n",
              "  0.9158,\n",
              "  0.9181],\n",
              " 'val_loss': [0.573790195274353,\n",
              "  0.4199317941188812,\n",
              "  0.369601609659195,\n",
              "  0.34484514322280885,\n",
              "  0.32882071619033815,\n",
              "  0.31802962260246276,\n",
              "  0.30999509747028353,\n",
              "  0.30499601831436157,\n",
              "  0.3011487965941429,\n",
              "  0.2966593717932701]}"
            ]
          },
          "metadata": {
            "tags": []
          },
          "execution_count": 7
        }
      ]
    },
    {
      "cell_type": "code",
      "metadata": {
        "id": "SnHp0TGEUXSk",
        "colab_type": "code",
        "outputId": "1ca77cc0-ec33-4ae8-f6e5-84ae5c0659a3",
        "colab": {
          "base_uri": "https://localhost:8080/",
          "height": 170
        }
      },
      "source": [
        "(x_train, y_train), (x_test, y_test) = cifar10.load_data()\n",
        "y_test"
      ],
      "execution_count": 0,
      "outputs": [
        {
          "output_type": "stream",
          "text": [
            "Downloading data from https://www.cs.toronto.edu/~kriz/cifar-10-python.tar.gz\n",
            "170500096/170498071 [==============================] - 6s 0us/step\n"
          ],
          "name": "stdout"
        },
        {
          "output_type": "execute_result",
          "data": {
            "text/plain": [
              "array([[3],\n",
              "       [8],\n",
              "       [8],\n",
              "       ...,\n",
              "       [5],\n",
              "       [1],\n",
              "       [7]], dtype=uint8)"
            ]
          },
          "metadata": {
            "tags": []
          },
          "execution_count": 8
        }
      ]
    },
    {
      "cell_type": "code",
      "metadata": {
        "id": "Bp4paSB_UXSo",
        "colab_type": "code",
        "outputId": "84e01c2c-6e0b-4a6c-a6a8-9dd8f5320bc3",
        "colab": {
          "base_uri": "https://localhost:8080/",
          "height": 34
        }
      },
      "source": [
        "y_test = keras.utils.to_categorical(y_test, num_classes)\n",
        "y_test.shape"
      ],
      "execution_count": 0,
      "outputs": [
        {
          "output_type": "execute_result",
          "data": {
            "text/plain": [
              "(10000, 10)"
            ]
          },
          "metadata": {
            "tags": []
          },
          "execution_count": 9
        }
      ]
    },
    {
      "cell_type": "code",
      "metadata": {
        "id": "IqoiWbL2UXSr",
        "colab_type": "code",
        "outputId": "72d02446-e6f9-4438-d6f4-fd1e9f23f935",
        "colab": {
          "base_uri": "https://localhost:8080/",
          "height": 136
        }
      },
      "source": [
        "y_test"
      ],
      "execution_count": 0,
      "outputs": [
        {
          "output_type": "execute_result",
          "data": {
            "text/plain": [
              "array([[0., 0., 0., ..., 0., 0., 0.],\n",
              "       [0., 0., 0., ..., 0., 1., 0.],\n",
              "       [0., 0., 0., ..., 0., 1., 0.],\n",
              "       ...,\n",
              "       [0., 0., 0., ..., 0., 0., 0.],\n",
              "       [0., 1., 0., ..., 0., 0., 0.],\n",
              "       [0., 0., 0., ..., 1., 0., 0.]], dtype=float32)"
            ]
          },
          "metadata": {
            "tags": []
          },
          "execution_count": 10
        }
      ]
    },
    {
      "cell_type": "code",
      "metadata": {
        "jupyter": {
          "outputs_hidden": true
        },
        "id": "4HfUtcBKUXSu",
        "colab_type": "code",
        "colab": {}
      },
      "source": [
        ""
      ],
      "execution_count": 0,
      "outputs": []
    }
  ]
}