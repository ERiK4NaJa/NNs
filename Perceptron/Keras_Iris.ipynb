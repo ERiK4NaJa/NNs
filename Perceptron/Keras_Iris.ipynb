{
  "nbformat": 4,
  "nbformat_minor": 0,
  "metadata": {
    "colab": {
      "name": "Keras-Iris.ipynb",
      "provenance": [],
      "machine_shape": "hm"
    },
    "kernelspec": {
      "name": "python3",
      "display_name": "Python 3"
    },
    "accelerator": "GPU"
  },
  "cells": [
    {
      "cell_type": "code",
      "metadata": {
        "id": "eagjilVnnoAw",
        "colab_type": "code",
        "colab": {
          "base_uri": "https://localhost:8080/",
          "height": 34
        },
        "outputId": "84c20a43-a687-4bd7-ac16-b5e74cb34b83"
      },
      "source": [
        "import pandas as pd\n",
        "import numpy as np\n",
        "import matplotlib.pyplot as plt\n",
        "import keras\n",
        "from keras.models import Sequential\n",
        "from keras.layers import Dense, Activation\n",
        "from keras.optimizers import SGD\n",
        "\n",
        "from sklearn.metrics import classification_report, confusion_matrix\n"
      ],
      "execution_count": 1,
      "outputs": [
        {
          "output_type": "stream",
          "text": [
            "Using TensorFlow backend.\n"
          ],
          "name": "stderr"
        }
      ]
    },
    {
      "cell_type": "code",
      "metadata": {
        "id": "xDyuSjgBoOXT",
        "colab_type": "code",
        "colab": {
          "resources": {
            "http://localhost:8080/nbextensions/google.colab/files.js": {
              "data": "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",
              "ok": true,
              "headers": [
                [
                  "content-type",
                  "application/javascript"
                ]
              ],
              "status": 200,
              "status_text": ""
            }
          },
          "base_uri": "https://localhost:8080/",
          "height": 88
        },
        "outputId": "73cf2ad0-12f1-4044-da29-6bc1a91780ef"
      },
      "source": [
        "from google.colab import files\n",
        "\n",
        "uploaded = files.upload()\n",
        "\n",
        "for fn in uploaded.keys():\n",
        "  print('User uploaded file \"{name}\" with length {length} bytes'.format(\n",
        "      name=fn, length=len(uploaded[fn])))"
      ],
      "execution_count": 2,
      "outputs": [
        {
          "output_type": "display_data",
          "data": {
            "text/html": [
              "\n",
              "     <input type=\"file\" id=\"files-c7e41a84-6197-43f8-9d86-3731d412bc19\" name=\"files[]\" multiple disabled />\n",
              "     <output id=\"result-c7e41a84-6197-43f8-9d86-3731d412bc19\">\n",
              "      Upload widget is only available when the cell has been executed in the\n",
              "      current browser session. Please rerun this cell to enable.\n",
              "      </output>\n",
              "      <script src=\"/nbextensions/google.colab/files.js\"></script> "
            ],
            "text/plain": [
              "<IPython.core.display.HTML object>"
            ]
          },
          "metadata": {
            "tags": []
          }
        },
        {
          "output_type": "stream",
          "text": [
            "Saving iris.csv to iris.csv\n",
            "User uploaded file \"iris.csv\" with length 4608 bytes\n"
          ],
          "name": "stdout"
        }
      ]
    },
    {
      "cell_type": "code",
      "metadata": {
        "id": "6oh1jxfSob0I",
        "colab_type": "code",
        "colab": {}
      },
      "source": [
        "df = pd.read_csv(\"iris.csv\")"
      ],
      "execution_count": 0,
      "outputs": []
    },
    {
      "cell_type": "code",
      "metadata": {
        "id": "BlctFZeVob23",
        "colab_type": "code",
        "colab": {
          "base_uri": "https://localhost:8080/",
          "height": 204
        },
        "outputId": "7c9d19c8-8eac-4103-b7cf-546925af9c6b"
      },
      "source": [
        "df.head()"
      ],
      "execution_count": 4,
      "outputs": [
        {
          "output_type": "execute_result",
          "data": {
            "text/html": [
              "<div>\n",
              "<style scoped>\n",
              "    .dataframe tbody tr th:only-of-type {\n",
              "        vertical-align: middle;\n",
              "    }\n",
              "\n",
              "    .dataframe tbody tr th {\n",
              "        vertical-align: top;\n",
              "    }\n",
              "\n",
              "    .dataframe thead th {\n",
              "        text-align: right;\n",
              "    }\n",
              "</style>\n",
              "<table border=\"1\" class=\"dataframe\">\n",
              "  <thead>\n",
              "    <tr style=\"text-align: right;\">\n",
              "      <th></th>\n",
              "      <th>sepal_length</th>\n",
              "      <th>sepal_width</th>\n",
              "      <th>petal_length</th>\n",
              "      <th>petal_width</th>\n",
              "      <th>variety</th>\n",
              "    </tr>\n",
              "  </thead>\n",
              "  <tbody>\n",
              "    <tr>\n",
              "      <th>0</th>\n",
              "      <td>5.1</td>\n",
              "      <td>3.5</td>\n",
              "      <td>1.4</td>\n",
              "      <td>0.2</td>\n",
              "      <td>Iris-setosa</td>\n",
              "    </tr>\n",
              "    <tr>\n",
              "      <th>1</th>\n",
              "      <td>4.9</td>\n",
              "      <td>3.0</td>\n",
              "      <td>1.4</td>\n",
              "      <td>0.2</td>\n",
              "      <td>Iris-setosa</td>\n",
              "    </tr>\n",
              "    <tr>\n",
              "      <th>2</th>\n",
              "      <td>4.7</td>\n",
              "      <td>3.2</td>\n",
              "      <td>1.3</td>\n",
              "      <td>0.2</td>\n",
              "      <td>Iris-setosa</td>\n",
              "    </tr>\n",
              "    <tr>\n",
              "      <th>3</th>\n",
              "      <td>4.6</td>\n",
              "      <td>3.1</td>\n",
              "      <td>1.5</td>\n",
              "      <td>0.2</td>\n",
              "      <td>Iris-setosa</td>\n",
              "    </tr>\n",
              "    <tr>\n",
              "      <th>4</th>\n",
              "      <td>5.0</td>\n",
              "      <td>3.6</td>\n",
              "      <td>1.4</td>\n",
              "      <td>0.2</td>\n",
              "      <td>Iris-setosa</td>\n",
              "    </tr>\n",
              "  </tbody>\n",
              "</table>\n",
              "</div>"
            ],
            "text/plain": [
              "   sepal_length  sepal_width  petal_length  petal_width      variety\n",
              "0           5.1          3.5           1.4          0.2  Iris-setosa\n",
              "1           4.9          3.0           1.4          0.2  Iris-setosa\n",
              "2           4.7          3.2           1.3          0.2  Iris-setosa\n",
              "3           4.6          3.1           1.5          0.2  Iris-setosa\n",
              "4           5.0          3.6           1.4          0.2  Iris-setosa"
            ]
          },
          "metadata": {
            "tags": []
          },
          "execution_count": 4
        }
      ]
    },
    {
      "cell_type": "code",
      "metadata": {
        "id": "ZB4Lat0vob6D",
        "colab_type": "code",
        "colab": {}
      },
      "source": [
        "inputs_x = df[['sepal_length', 'sepal_width', 'petal_length', 'petal_width']]\n",
        "inputs_y = df['variety']"
      ],
      "execution_count": 0,
      "outputs": []
    },
    {
      "cell_type": "code",
      "metadata": {
        "id": "K6KKjcECob-s",
        "colab_type": "code",
        "colab": {}
      },
      "source": [
        "from sklearn.preprocessing import StandardScaler\n",
        "scaler = StandardScaler()"
      ],
      "execution_count": 0,
      "outputs": []
    },
    {
      "cell_type": "code",
      "metadata": {
        "id": "zvuQ--EvocBN",
        "colab_type": "code",
        "colab": {}
      },
      "source": [
        "inputs_x_scaler = scaler.fit_transform(inputs_x.values)\n",
        "df_scaler = pd.DataFrame(inputs_x_scaler, index=inputs_x.index, columns=inputs_x.columns)"
      ],
      "execution_count": 0,
      "outputs": []
    },
    {
      "cell_type": "code",
      "metadata": {
        "id": "mhwERUPAob8h",
        "colab_type": "code",
        "colab": {}
      },
      "source": [
        "from sklearn.model_selection import train_test_split\n",
        "X_train, X_test, y_train, y_test = train_test_split(df_scaler.values, inputs_y, test_size=0.2, random_state=42)"
      ],
      "execution_count": 0,
      "outputs": []
    },
    {
      "cell_type": "code",
      "metadata": {
        "id": "jCpiwOL2qy4i",
        "colab_type": "code",
        "colab": {}
      },
      "source": [
        "from sklearn import preprocessing\n",
        "encoder = preprocessing.LabelEncoder()\n",
        "y_train = encoder.fit_transform(y_train)\n",
        "y_test = encoder.fit_transform(y_test)"
      ],
      "execution_count": 0,
      "outputs": []
    },
    {
      "cell_type": "code",
      "metadata": {
        "id": "NXCw2Minqy7A",
        "colab_type": "code",
        "colab": {}
      },
      "source": [
        "y_train = keras.utils.to_categorical(y_train, num_classes=3)\n",
        "y_test = keras.utils.to_categorical(y_test, num_classes=3)"
      ],
      "execution_count": 0,
      "outputs": []
    },
    {
      "cell_type": "code",
      "metadata": {
        "id": "SoezPL4rqy9R",
        "colab_type": "code",
        "colab": {
          "base_uri": "https://localhost:8080/",
          "height": 85
        },
        "outputId": "64a7281c-1a56-471b-983a-857f347db663"
      },
      "source": [
        "print(X_train.shape)\n",
        "print(X_test.shape)\n",
        "print(y_train.shape)\n",
        "print(y_test.shape)"
      ],
      "execution_count": 11,
      "outputs": [
        {
          "output_type": "stream",
          "text": [
            "(120, 4)\n",
            "(30, 4)\n",
            "(120, 3)\n",
            "(30, 3)\n"
          ],
          "name": "stdout"
        }
      ]
    },
    {
      "cell_type": "code",
      "metadata": {
        "id": "hDI9I6Mfqy_9",
        "colab_type": "code",
        "colab": {}
      },
      "source": [
        "model = Sequential()\n",
        "model.add(Dense(100,input_shape=(4,),activation='relu'))\n",
        "model.add(Dense(3, activation='softmax'))\n",
        "optimizer = SGD(learning_rate=0.01, momentum=0.9)\n",
        "model.compile(optimizer=optimizer, loss='categorical_crossentropy', metrics=['accuracy'])"
      ],
      "execution_count": 0,
      "outputs": []
    },
    {
      "cell_type": "code",
      "metadata": {
        "id": "_PbOfKnAqzCN",
        "colab_type": "code",
        "colab": {
          "base_uri": "https://localhost:8080/",
          "height": 221
        },
        "outputId": "9b9294cd-8f02-41f6-98a8-cd9954fc2e31"
      },
      "source": [
        "model.summary()"
      ],
      "execution_count": 23,
      "outputs": [
        {
          "output_type": "stream",
          "text": [
            "Model: \"sequential_2\"\n",
            "_________________________________________________________________\n",
            "Layer (type)                 Output Shape              Param #   \n",
            "=================================================================\n",
            "dense_3 (Dense)              (None, 100)               500       \n",
            "_________________________________________________________________\n",
            "dense_4 (Dense)              (None, 3)                 303       \n",
            "=================================================================\n",
            "Total params: 803\n",
            "Trainable params: 803\n",
            "Non-trainable params: 0\n",
            "_________________________________________________________________\n"
          ],
          "name": "stdout"
        }
      ]
    },
    {
      "cell_type": "code",
      "metadata": {
        "id": "DunzzH3_SoC7",
        "colab_type": "code",
        "colab": {
          "base_uri": "https://localhost:8080/",
          "height": 312
        },
        "outputId": "7bd2c092-ddfd-4a7a-c10c-185e1479c0f0"
      },
      "source": [
        "from keras.utils import plot_model\n",
        "\n",
        "plot_model(model, to_file='model_plot.png', show_shapes=True, show_layer_names=True)\n",
        "from IPython.display import Image\n",
        "Image(filename='model_plot.png')"
      ],
      "execution_count": 24,
      "outputs": [
        {
          "output_type": "execute_result",
          "data": {
            "image/png": "[encoded data removed]",
            "text/plain": [
              "<IPython.core.display.Image object>"
            ]
          },
          "metadata": {
            "tags": []
          },
          "execution_count": 24
        }
      ]
    },
    {
      "cell_type": "code",
      "metadata": {
        "id": "NdPWWA_cqzHC",
        "colab_type": "code",
        "colab": {
          "base_uri": "https://localhost:8080/",
          "height": 1000
        },
        "outputId": "6a64c790-e8f4-4397-ebe1-cfbb37af1564"
      },
      "source": [
        "trained_model = model.fit(X_train, y_train, epochs=300, batch_size=32)"
      ],
      "execution_count": 25,
      "outputs": [
        {
          "output_type": "stream",
          "text": [
            "Epoch 1/300\n",
            "120/120 [==============================] - 0s 421us/step - loss: 1.1411 - accuracy: 0.2250\n",
            "Epoch 2/300\n",
            "120/120 [==============================] - 0s 94us/step - loss: 0.9914 - accuracy: 0.5250\n",
            "Epoch 3/300\n",
            "120/120 [==============================] - 0s 91us/step - loss: 0.8044 - accuracy: 0.7167\n",
            "Epoch 4/300\n",
            "120/120 [==============================] - 0s 90us/step - loss: 0.6702 - accuracy: 0.7667\n",
            "Epoch 5/300\n",
            "120/120 [==============================] - 0s 89us/step - loss: 0.5798 - accuracy: 0.8083\n",
            "Epoch 6/300\n",
            "120/120 [==============================] - 0s 101us/step - loss: 0.5169 - accuracy: 0.8167\n",
            "Epoch 7/300\n",
            "120/120 [==============================] - 0s 104us/step - loss: 0.4706 - accuracy: 0.8333\n",
            "Epoch 8/300\n",
            "120/120 [==============================] - 0s 94us/step - loss: 0.4379 - accuracy: 0.8333\n",
            "Epoch 9/300\n",
            "120/120 [==============================] - 0s 91us/step - loss: 0.4121 - accuracy: 0.8333\n",
            "Epoch 10/300\n",
            "120/120 [==============================] - 0s 89us/step - loss: 0.3901 - accuracy: 0.8417\n",
            "Epoch 11/300\n",
            "120/120 [==============================] - 0s 97us/step - loss: 0.3707 - accuracy: 0.8500\n",
            "Epoch 12/300\n",
            "120/120 [==============================] - 0s 90us/step - loss: 0.3550 - accuracy: 0.8583\n",
            "Epoch 13/300\n",
            "120/120 [==============================] - 0s 87us/step - loss: 0.3412 - accuracy: 0.8667\n",
            "Epoch 14/300\n",
            "120/120 [==============================] - 0s 99us/step - loss: 0.3295 - accuracy: 0.8667\n",
            "Epoch 15/300\n",
            "120/120 [==============================] - 0s 84us/step - loss: 0.3190 - accuracy: 0.8750\n",
            "Epoch 16/300\n",
            "120/120 [==============================] - 0s 95us/step - loss: 0.3091 - accuracy: 0.8750\n",
            "Epoch 17/300\n",
            "120/120 [==============================] - 0s 81us/step - loss: 0.3001 - accuracy: 0.9083\n",
            "Epoch 18/300\n",
            "120/120 [==============================] - 0s 96us/step - loss: 0.2915 - accuracy: 0.9083\n",
            "Epoch 19/300\n",
            "120/120 [==============================] - 0s 95us/step - loss: 0.2833 - accuracy: 0.9083\n",
            "Epoch 20/300\n",
            "120/120 [==============================] - 0s 85us/step - loss: 0.2755 - accuracy: 0.9083\n",
            "Epoch 21/300\n",
            "120/120 [==============================] - 0s 95us/step - loss: 0.2674 - accuracy: 0.9167\n",
            "Epoch 22/300\n",
            "120/120 [==============================] - 0s 97us/step - loss: 0.2599 - accuracy: 0.9167\n",
            "Epoch 23/300\n",
            "120/120 [==============================] - 0s 101us/step - loss: 0.2530 - accuracy: 0.9250\n",
            "Epoch 24/300\n",
            "120/120 [==============================] - 0s 95us/step - loss: 0.2479 - accuracy: 0.9250\n",
            "Epoch 25/300\n",
            "120/120 [==============================] - 0s 88us/step - loss: 0.2397 - accuracy: 0.9333\n",
            "Epoch 26/300\n",
            "120/120 [==============================] - 0s 86us/step - loss: 0.2332 - accuracy: 0.9417\n",
            "Epoch 27/300\n",
            "120/120 [==============================] - 0s 89us/step - loss: 0.2274 - accuracy: 0.9417\n",
            "Epoch 28/300\n",
            "120/120 [==============================] - 0s 83us/step - loss: 0.2216 - accuracy: 0.9500\n",
            "Epoch 29/300\n",
            "120/120 [==============================] - 0s 90us/step - loss: 0.2166 - accuracy: 0.9500\n",
            "Epoch 30/300\n",
            "120/120 [==============================] - 0s 87us/step - loss: 0.2104 - accuracy: 0.9500\n",
            "Epoch 31/300\n",
            "120/120 [==============================] - 0s 95us/step - loss: 0.2052 - accuracy: 0.9583\n",
            "Epoch 32/300\n",
            "120/120 [==============================] - 0s 84us/step - loss: 0.2008 - accuracy: 0.9583\n",
            "Epoch 33/300\n",
            "120/120 [==============================] - 0s 88us/step - loss: 0.1958 - accuracy: 0.9583\n",
            "Epoch 34/300\n",
            "120/120 [==============================] - 0s 98us/step - loss: 0.1910 - accuracy: 0.9583\n",
            "Epoch 35/300\n",
            "120/120 [==============================] - 0s 88us/step - loss: 0.1865 - accuracy: 0.9583\n",
            "Epoch 36/300\n",
            "120/120 [==============================] - 0s 92us/step - loss: 0.1818 - accuracy: 0.9583\n",
            "Epoch 37/300\n",
            "120/120 [==============================] - 0s 95us/step - loss: 0.1774 - accuracy: 0.9583\n",
            "Epoch 38/300\n",
            "120/120 [==============================] - 0s 99us/step - loss: 0.1735 - accuracy: 0.9583\n",
            "Epoch 39/300\n",
            "120/120 [==============================] - 0s 104us/step - loss: 0.1697 - accuracy: 0.9583\n",
            "Epoch 40/300\n",
            "120/120 [==============================] - 0s 88us/step - loss: 0.1661 - accuracy: 0.9583\n",
            "Epoch 41/300\n",
            "120/120 [==============================] - 0s 107us/step - loss: 0.1622 - accuracy: 0.9583\n",
            "Epoch 42/300\n",
            "120/120 [==============================] - 0s 98us/step - loss: 0.1588 - accuracy: 0.9583\n",
            "Epoch 43/300\n",
            "120/120 [==============================] - 0s 112us/step - loss: 0.1554 - accuracy: 0.9583\n",
            "Epoch 44/300\n",
            "120/120 [==============================] - 0s 90us/step - loss: 0.1526 - accuracy: 0.9583\n",
            "Epoch 45/300\n",
            "120/120 [==============================] - 0s 93us/step - loss: 0.1492 - accuracy: 0.9583\n",
            "Epoch 46/300\n",
            "120/120 [==============================] - 0s 97us/step - loss: 0.1462 - accuracy: 0.9667\n",
            "Epoch 47/300\n",
            "120/120 [==============================] - 0s 104us/step - loss: 0.1434 - accuracy: 0.9667\n",
            "Epoch 48/300\n",
            "120/120 [==============================] - 0s 98us/step - loss: 0.1405 - accuracy: 0.9667\n",
            "Epoch 49/300\n",
            "120/120 [==============================] - 0s 103us/step - loss: 0.1377 - accuracy: 0.9750\n",
            "Epoch 50/300\n",
            "120/120 [==============================] - 0s 104us/step - loss: 0.1356 - accuracy: 0.9750\n",
            "Epoch 51/300\n",
            "120/120 [==============================] - 0s 118us/step - loss: 0.1328 - accuracy: 0.9750\n",
            "Epoch 52/300\n",
            "120/120 [==============================] - 0s 100us/step - loss: 0.1304 - accuracy: 0.9750\n",
            "Epoch 53/300\n",
            "120/120 [==============================] - 0s 99us/step - loss: 0.1284 - accuracy: 0.9667\n",
            "Epoch 54/300\n",
            "120/120 [==============================] - 0s 108us/step - loss: 0.1260 - accuracy: 0.9667\n",
            "Epoch 55/300\n",
            "120/120 [==============================] - 0s 101us/step - loss: 0.1240 - accuracy: 0.9667\n",
            "Epoch 56/300\n",
            "120/120 [==============================] - 0s 91us/step - loss: 0.1221 - accuracy: 0.9667\n",
            "Epoch 57/300\n",
            "120/120 [==============================] - 0s 109us/step - loss: 0.1199 - accuracy: 0.9667\n",
            "Epoch 58/300\n",
            "120/120 [==============================] - 0s 97us/step - loss: 0.1182 - accuracy: 0.9667\n",
            "Epoch 59/300\n",
            "120/120 [==============================] - 0s 101us/step - loss: 0.1167 - accuracy: 0.9667\n",
            "Epoch 60/300\n",
            "120/120 [==============================] - 0s 99us/step - loss: 0.1147 - accuracy: 0.9667\n",
            "Epoch 61/300\n",
            "120/120 [==============================] - 0s 102us/step - loss: 0.1130 - accuracy: 0.9667\n",
            "Epoch 62/300\n",
            "120/120 [==============================] - 0s 98us/step - loss: 0.1115 - accuracy: 0.9667\n",
            "Epoch 63/300\n",
            "120/120 [==============================] - 0s 99us/step - loss: 0.1099 - accuracy: 0.9667\n",
            "Epoch 64/300\n",
            "120/120 [==============================] - 0s 114us/step - loss: 0.1088 - accuracy: 0.9583\n",
            "Epoch 65/300\n",
            "120/120 [==============================] - 0s 95us/step - loss: 0.1070 - accuracy: 0.9583\n",
            "Epoch 66/300\n",
            "120/120 [==============================] - 0s 93us/step - loss: 0.1055 - accuracy: 0.9667\n",
            "Epoch 67/300\n",
            "120/120 [==============================] - 0s 100us/step - loss: 0.1045 - accuracy: 0.9667\n",
            "Epoch 68/300\n",
            "120/120 [==============================] - 0s 118us/step - loss: 0.1029 - accuracy: 0.9667\n",
            "Epoch 69/300\n",
            "120/120 [==============================] - 0s 116us/step - loss: 0.1017 - accuracy: 0.9667\n",
            "Epoch 70/300\n",
            "120/120 [==============================] - 0s 95us/step - loss: 0.1005 - accuracy: 0.9667\n",
            "Epoch 71/300\n",
            "120/120 [==============================] - 0s 102us/step - loss: 0.0995 - accuracy: 0.9667\n",
            "Epoch 72/300\n",
            "120/120 [==============================] - 0s 96us/step - loss: 0.0984 - accuracy: 0.9583\n",
            "Epoch 73/300\n",
            "120/120 [==============================] - 0s 102us/step - loss: 0.0972 - accuracy: 0.9667\n",
            "Epoch 74/300\n",
            "120/120 [==============================] - 0s 105us/step - loss: 0.0962 - accuracy: 0.9583\n",
            "Epoch 75/300\n",
            "120/120 [==============================] - 0s 97us/step - loss: 0.0952 - accuracy: 0.9667\n",
            "Epoch 76/300\n",
            "120/120 [==============================] - 0s 99us/step - loss: 0.0941 - accuracy: 0.9667\n",
            "Epoch 77/300\n",
            "120/120 [==============================] - 0s 106us/step - loss: 0.0937 - accuracy: 0.9583\n",
            "Epoch 78/300\n",
            "120/120 [==============================] - 0s 111us/step - loss: 0.0921 - accuracy: 0.9667\n",
            "Epoch 79/300\n",
            "120/120 [==============================] - 0s 106us/step - loss: 0.0916 - accuracy: 0.9667\n",
            "Epoch 80/300\n",
            "120/120 [==============================] - 0s 91us/step - loss: 0.0907 - accuracy: 0.9667\n",
            "Epoch 81/300\n",
            "120/120 [==============================] - 0s 97us/step - loss: 0.0897 - accuracy: 0.9667\n",
            "Epoch 82/300\n",
            "120/120 [==============================] - 0s 93us/step - loss: 0.0889 - accuracy: 0.9667\n",
            "Epoch 83/300\n",
            "120/120 [==============================] - 0s 94us/step - loss: 0.0883 - accuracy: 0.9667\n",
            "Epoch 84/300\n",
            "120/120 [==============================] - 0s 98us/step - loss: 0.0873 - accuracy: 0.9667\n",
            "Epoch 85/300\n",
            "120/120 [==============================] - 0s 136us/step - loss: 0.0866 - accuracy: 0.9583\n",
            "Epoch 86/300\n",
            "120/120 [==============================] - 0s 119us/step - loss: 0.0858 - accuracy: 0.9583\n",
            "Epoch 87/300\n",
            "120/120 [==============================] - 0s 117us/step - loss: 0.0851 - accuracy: 0.9583\n",
            "Epoch 88/300\n",
            "120/120 [==============================] - 0s 106us/step - loss: 0.0845 - accuracy: 0.9667\n",
            "Epoch 89/300\n",
            "120/120 [==============================] - 0s 95us/step - loss: 0.0838 - accuracy: 0.9667\n",
            "Epoch 90/300\n",
            "120/120 [==============================] - 0s 97us/step - loss: 0.0833 - accuracy: 0.9667\n",
            "Epoch 91/300\n",
            "120/120 [==============================] - 0s 98us/step - loss: 0.0825 - accuracy: 0.9667\n",
            "Epoch 92/300\n",
            "120/120 [==============================] - 0s 109us/step - loss: 0.0820 - accuracy: 0.9583\n",
            "Epoch 93/300\n",
            "120/120 [==============================] - 0s 103us/step - loss: 0.0813 - accuracy: 0.9583\n",
            "Epoch 94/300\n",
            "120/120 [==============================] - 0s 168us/step - loss: 0.0807 - accuracy: 0.9583\n",
            "Epoch 95/300\n",
            "120/120 [==============================] - 0s 105us/step - loss: 0.0803 - accuracy: 0.9583\n",
            "Epoch 96/300\n",
            "120/120 [==============================] - 0s 117us/step - loss: 0.0797 - accuracy: 0.9583\n",
            "Epoch 97/300\n",
            "120/120 [==============================] - 0s 109us/step - loss: 0.0791 - accuracy: 0.9583\n",
            "Epoch 98/300\n",
            "120/120 [==============================] - 0s 101us/step - loss: 0.0788 - accuracy: 0.9583\n",
            "Epoch 99/300\n",
            "120/120 [==============================] - 0s 107us/step - loss: 0.0786 - accuracy: 0.9583\n",
            "Epoch 100/300\n",
            "120/120 [==============================] - 0s 106us/step - loss: 0.0779 - accuracy: 0.9583\n",
            "Epoch 101/300\n",
            "120/120 [==============================] - 0s 105us/step - loss: 0.0773 - accuracy: 0.9583\n",
            "Epoch 102/300\n",
            "120/120 [==============================] - 0s 109us/step - loss: 0.0767 - accuracy: 0.9583\n",
            "Epoch 103/300\n",
            "120/120 [==============================] - 0s 101us/step - loss: 0.0764 - accuracy: 0.9583\n",
            "Epoch 104/300\n",
            "120/120 [==============================] - 0s 102us/step - loss: 0.0759 - accuracy: 0.9583\n",
            "Epoch 105/300\n",
            "120/120 [==============================] - 0s 95us/step - loss: 0.0759 - accuracy: 0.9583\n",
            "Epoch 106/300\n",
            "120/120 [==============================] - 0s 112us/step - loss: 0.0754 - accuracy: 0.9583\n",
            "Epoch 107/300\n",
            "120/120 [==============================] - 0s 109us/step - loss: 0.0746 - accuracy: 0.9750\n",
            "Epoch 108/300\n",
            "120/120 [==============================] - 0s 118us/step - loss: 0.0744 - accuracy: 0.9750\n",
            "Epoch 109/300\n",
            "120/120 [==============================] - 0s 117us/step - loss: 0.0741 - accuracy: 0.9583\n",
            "Epoch 110/300\n",
            "120/120 [==============================] - 0s 106us/step - loss: 0.0734 - accuracy: 0.9750\n",
            "Epoch 111/300\n",
            "120/120 [==============================] - 0s 103us/step - loss: 0.0730 - accuracy: 0.9750\n",
            "Epoch 112/300\n",
            "120/120 [==============================] - 0s 95us/step - loss: 0.0727 - accuracy: 0.9750\n",
            "Epoch 113/300\n",
            "120/120 [==============================] - 0s 92us/step - loss: 0.0724 - accuracy: 0.9750\n",
            "Epoch 114/300\n",
            "120/120 [==============================] - 0s 90us/step - loss: 0.0723 - accuracy: 0.9750\n",
            "Epoch 115/300\n",
            "120/120 [==============================] - 0s 90us/step - loss: 0.0718 - accuracy: 0.9750\n",
            "Epoch 116/300\n",
            "120/120 [==============================] - 0s 96us/step - loss: 0.0714 - accuracy: 0.9750\n",
            "Epoch 117/300\n",
            "120/120 [==============================] - 0s 90us/step - loss: 0.0716 - accuracy: 0.9583\n",
            "Epoch 118/300\n",
            "120/120 [==============================] - 0s 124us/step - loss: 0.0706 - accuracy: 0.9583\n",
            "Epoch 119/300\n",
            "120/120 [==============================] - 0s 108us/step - loss: 0.0704 - accuracy: 0.9583\n",
            "Epoch 120/300\n",
            "120/120 [==============================] - 0s 104us/step - loss: 0.0702 - accuracy: 0.9667\n",
            "Epoch 121/300\n",
            "120/120 [==============================] - 0s 99us/step - loss: 0.0702 - accuracy: 0.9667\n",
            "Epoch 122/300\n",
            "120/120 [==============================] - 0s 114us/step - loss: 0.0693 - accuracy: 0.9667\n",
            "Epoch 123/300\n",
            "120/120 [==============================] - 0s 107us/step - loss: 0.0691 - accuracy: 0.9750\n",
            "Epoch 124/300\n",
            "120/120 [==============================] - 0s 97us/step - loss: 0.0688 - accuracy: 0.9750\n",
            "Epoch 125/300\n",
            "120/120 [==============================] - 0s 120us/step - loss: 0.0684 - accuracy: 0.9750\n",
            "Epoch 126/300\n",
            "120/120 [==============================] - 0s 106us/step - loss: 0.0682 - accuracy: 0.9750\n",
            "Epoch 127/300\n",
            "120/120 [==============================] - 0s 100us/step - loss: 0.0679 - accuracy: 0.9667\n",
            "Epoch 128/300\n",
            "120/120 [==============================] - 0s 99us/step - loss: 0.0677 - accuracy: 0.9583\n",
            "Epoch 129/300\n",
            "120/120 [==============================] - 0s 100us/step - loss: 0.0675 - accuracy: 0.9583\n",
            "Epoch 130/300\n",
            "120/120 [==============================] - 0s 93us/step - loss: 0.0672 - accuracy: 0.9583\n",
            "Epoch 131/300\n",
            "120/120 [==============================] - 0s 92us/step - loss: 0.0669 - accuracy: 0.9667\n",
            "Epoch 132/300\n",
            "120/120 [==============================] - 0s 99us/step - loss: 0.0667 - accuracy: 0.9667\n",
            "Epoch 133/300\n",
            "120/120 [==============================] - 0s 93us/step - loss: 0.0664 - accuracy: 0.9833\n",
            "Epoch 134/300\n",
            "120/120 [==============================] - 0s 98us/step - loss: 0.0661 - accuracy: 0.9833\n",
            "Epoch 135/300\n",
            "120/120 [==============================] - 0s 91us/step - loss: 0.0660 - accuracy: 0.9833\n",
            "Epoch 136/300\n",
            "120/120 [==============================] - 0s 92us/step - loss: 0.0657 - accuracy: 0.9833\n",
            "Epoch 137/300\n",
            "120/120 [==============================] - 0s 104us/step - loss: 0.0654 - accuracy: 0.9833\n",
            "Epoch 138/300\n",
            "120/120 [==============================] - 0s 117us/step - loss: 0.0652 - accuracy: 0.9750\n",
            "Epoch 139/300\n",
            "120/120 [==============================] - 0s 97us/step - loss: 0.0653 - accuracy: 0.9750\n",
            "Epoch 140/300\n",
            "120/120 [==============================] - 0s 103us/step - loss: 0.0648 - accuracy: 0.9833\n",
            "Epoch 141/300\n",
            "120/120 [==============================] - 0s 105us/step - loss: 0.0647 - accuracy: 0.9750\n",
            "Epoch 142/300\n",
            "120/120 [==============================] - 0s 104us/step - loss: 0.0645 - accuracy: 0.9750\n",
            "Epoch 143/300\n",
            "120/120 [==============================] - 0s 104us/step - loss: 0.0642 - accuracy: 0.9750\n",
            "Epoch 144/300\n",
            "120/120 [==============================] - 0s 111us/step - loss: 0.0640 - accuracy: 0.9750\n",
            "Epoch 145/300\n",
            "120/120 [==============================] - 0s 93us/step - loss: 0.0640 - accuracy: 0.9750\n",
            "Epoch 146/300\n",
            "120/120 [==============================] - 0s 108us/step - loss: 0.0636 - accuracy: 0.9833\n",
            "Epoch 147/300\n",
            "120/120 [==============================] - 0s 97us/step - loss: 0.0634 - accuracy: 0.9750\n",
            "Epoch 148/300\n",
            "120/120 [==============================] - 0s 104us/step - loss: 0.0632 - accuracy: 0.9750\n",
            "Epoch 149/300\n",
            "120/120 [==============================] - 0s 102us/step - loss: 0.0629 - accuracy: 0.9833\n",
            "Epoch 150/300\n",
            "120/120 [==============================] - 0s 94us/step - loss: 0.0628 - accuracy: 0.9833\n",
            "Epoch 151/300\n",
            "120/120 [==============================] - 0s 99us/step - loss: 0.0626 - accuracy: 0.9833\n",
            "Epoch 152/300\n",
            "120/120 [==============================] - 0s 102us/step - loss: 0.0626 - accuracy: 0.9833\n",
            "Epoch 153/300\n",
            "120/120 [==============================] - 0s 92us/step - loss: 0.0623 - accuracy: 0.9833\n",
            "Epoch 154/300\n",
            "120/120 [==============================] - 0s 95us/step - loss: 0.0620 - accuracy: 0.9833\n",
            "Epoch 155/300\n",
            "120/120 [==============================] - 0s 101us/step - loss: 0.0619 - accuracy: 0.9750\n",
            "Epoch 156/300\n",
            "120/120 [==============================] - 0s 103us/step - loss: 0.0618 - accuracy: 0.9750\n",
            "Epoch 157/300\n",
            "120/120 [==============================] - 0s 100us/step - loss: 0.0617 - accuracy: 0.9750\n",
            "Epoch 158/300\n",
            "120/120 [==============================] - 0s 112us/step - loss: 0.0617 - accuracy: 0.9750\n",
            "Epoch 159/300\n",
            "120/120 [==============================] - 0s 116us/step - loss: 0.0613 - accuracy: 0.9833\n",
            "Epoch 160/300\n",
            "120/120 [==============================] - 0s 87us/step - loss: 0.0616 - accuracy: 0.9833\n",
            "Epoch 161/300\n",
            "120/120 [==============================] - 0s 97us/step - loss: 0.0610 - accuracy: 0.9750\n",
            "Epoch 162/300\n",
            "120/120 [==============================] - 0s 102us/step - loss: 0.0611 - accuracy: 0.9833\n",
            "Epoch 163/300\n",
            "120/120 [==============================] - 0s 101us/step - loss: 0.0607 - accuracy: 0.9833\n",
            "Epoch 164/300\n",
            "120/120 [==============================] - 0s 100us/step - loss: 0.0606 - accuracy: 0.9833\n",
            "Epoch 165/300\n",
            "120/120 [==============================] - 0s 101us/step - loss: 0.0603 - accuracy: 0.9833\n",
            "Epoch 166/300\n",
            "120/120 [==============================] - 0s 104us/step - loss: 0.0603 - accuracy: 0.9833\n",
            "Epoch 167/300\n",
            "120/120 [==============================] - 0s 103us/step - loss: 0.0603 - accuracy: 0.9833\n",
            "Epoch 168/300\n",
            "120/120 [==============================] - 0s 120us/step - loss: 0.0600 - accuracy: 0.9833\n",
            "Epoch 169/300\n",
            "120/120 [==============================] - 0s 95us/step - loss: 0.0598 - accuracy: 0.9833\n",
            "Epoch 170/300\n",
            "120/120 [==============================] - 0s 97us/step - loss: 0.0603 - accuracy: 0.9833\n",
            "Epoch 171/300\n",
            "120/120 [==============================] - 0s 96us/step - loss: 0.0597 - accuracy: 0.9833\n",
            "Epoch 172/300\n",
            "120/120 [==============================] - 0s 102us/step - loss: 0.0601 - accuracy: 0.9750\n",
            "Epoch 173/300\n",
            "120/120 [==============================] - 0s 95us/step - loss: 0.0592 - accuracy: 0.9750\n",
            "Epoch 174/300\n",
            "120/120 [==============================] - 0s 109us/step - loss: 0.0591 - accuracy: 0.9833\n",
            "Epoch 175/300\n",
            "120/120 [==============================] - 0s 101us/step - loss: 0.0589 - accuracy: 0.9833\n",
            "Epoch 176/300\n",
            "120/120 [==============================] - 0s 93us/step - loss: 0.0589 - accuracy: 0.9833\n",
            "Epoch 177/300\n",
            "120/120 [==============================] - 0s 102us/step - loss: 0.0587 - accuracy: 0.9833\n",
            "Epoch 178/300\n",
            "120/120 [==============================] - 0s 102us/step - loss: 0.0587 - accuracy: 0.9833\n",
            "Epoch 179/300\n",
            "120/120 [==============================] - 0s 103us/step - loss: 0.0583 - accuracy: 0.9833\n",
            "Epoch 180/300\n",
            "120/120 [==============================] - 0s 107us/step - loss: 0.0585 - accuracy: 0.9833\n",
            "Epoch 181/300\n",
            "120/120 [==============================] - 0s 99us/step - loss: 0.0584 - accuracy: 0.9750\n",
            "Epoch 182/300\n",
            "120/120 [==============================] - 0s 109us/step - loss: 0.0586 - accuracy: 0.9750\n",
            "Epoch 183/300\n",
            "120/120 [==============================] - 0s 116us/step - loss: 0.0580 - accuracy: 0.9833\n",
            "Epoch 184/300\n",
            "120/120 [==============================] - 0s 109us/step - loss: 0.0580 - accuracy: 0.9833\n",
            "Epoch 185/300\n",
            "120/120 [==============================] - 0s 95us/step - loss: 0.0579 - accuracy: 0.9833\n",
            "Epoch 186/300\n",
            "120/120 [==============================] - 0s 105us/step - loss: 0.0577 - accuracy: 0.9833\n",
            "Epoch 187/300\n",
            "120/120 [==============================] - 0s 111us/step - loss: 0.0577 - accuracy: 0.9833\n",
            "Epoch 188/300\n",
            "120/120 [==============================] - 0s 102us/step - loss: 0.0575 - accuracy: 0.9833\n",
            "Epoch 189/300\n",
            "120/120 [==============================] - 0s 110us/step - loss: 0.0573 - accuracy: 0.9833\n",
            "Epoch 190/300\n",
            "120/120 [==============================] - 0s 110us/step - loss: 0.0572 - accuracy: 0.9833\n",
            "Epoch 191/300\n",
            "120/120 [==============================] - 0s 104us/step - loss: 0.0573 - accuracy: 0.9833\n",
            "Epoch 192/300\n",
            "120/120 [==============================] - 0s 101us/step - loss: 0.0569 - accuracy: 0.9833\n",
            "Epoch 193/300\n",
            "120/120 [==============================] - 0s 98us/step - loss: 0.0571 - accuracy: 0.9833\n",
            "Epoch 194/300\n",
            "120/120 [==============================] - 0s 100us/step - loss: 0.0568 - accuracy: 0.9833\n",
            "Epoch 195/300\n",
            "120/120 [==============================] - 0s 102us/step - loss: 0.0566 - accuracy: 0.9833\n",
            "Epoch 196/300\n",
            "120/120 [==============================] - 0s 105us/step - loss: 0.0565 - accuracy: 0.9833\n",
            "Epoch 197/300\n",
            "120/120 [==============================] - 0s 103us/step - loss: 0.0566 - accuracy: 0.9833\n",
            "Epoch 198/300\n",
            "120/120 [==============================] - 0s 99us/step - loss: 0.0564 - accuracy: 0.9833\n",
            "Epoch 199/300\n",
            "120/120 [==============================] - 0s 110us/step - loss: 0.0564 - accuracy: 0.9833\n",
            "Epoch 200/300\n",
            "120/120 [==============================] - 0s 107us/step - loss: 0.0562 - accuracy: 0.9833\n",
            "Epoch 201/300\n",
            "120/120 [==============================] - 0s 113us/step - loss: 0.0561 - accuracy: 0.9833\n",
            "Epoch 202/300\n",
            "120/120 [==============================] - 0s 93us/step - loss: 0.0562 - accuracy: 0.9833\n",
            "Epoch 203/300\n",
            "120/120 [==============================] - 0s 101us/step - loss: 0.0558 - accuracy: 0.9833\n",
            "Epoch 204/300\n",
            "120/120 [==============================] - 0s 103us/step - loss: 0.0560 - accuracy: 0.9833\n",
            "Epoch 205/300\n",
            "120/120 [==============================] - 0s 103us/step - loss: 0.0557 - accuracy: 0.9833\n",
            "Epoch 206/300\n",
            "120/120 [==============================] - 0s 107us/step - loss: 0.0556 - accuracy: 0.9833\n",
            "Epoch 207/300\n",
            "120/120 [==============================] - 0s 115us/step - loss: 0.0555 - accuracy: 0.9833\n",
            "Epoch 208/300\n",
            "120/120 [==============================] - 0s 95us/step - loss: 0.0554 - accuracy: 0.9833\n",
            "Epoch 209/300\n",
            "120/120 [==============================] - 0s 108us/step - loss: 0.0554 - accuracy: 0.9833\n",
            "Epoch 210/300\n",
            "120/120 [==============================] - 0s 99us/step - loss: 0.0552 - accuracy: 0.9833\n",
            "Epoch 211/300\n",
            "120/120 [==============================] - 0s 102us/step - loss: 0.0552 - accuracy: 0.9833\n",
            "Epoch 212/300\n",
            "120/120 [==============================] - 0s 94us/step - loss: 0.0553 - accuracy: 0.9833\n",
            "Epoch 213/300\n",
            "120/120 [==============================] - 0s 94us/step - loss: 0.0551 - accuracy: 0.9833\n",
            "Epoch 214/300\n",
            "120/120 [==============================] - 0s 102us/step - loss: 0.0548 - accuracy: 0.9833\n",
            "Epoch 215/300\n",
            "120/120 [==============================] - 0s 100us/step - loss: 0.0548 - accuracy: 0.9833\n",
            "Epoch 216/300\n",
            "120/120 [==============================] - 0s 107us/step - loss: 0.0547 - accuracy: 0.9833\n",
            "Epoch 217/300\n",
            "120/120 [==============================] - 0s 103us/step - loss: 0.0547 - accuracy: 0.9833\n",
            "Epoch 218/300\n",
            "120/120 [==============================] - 0s 114us/step - loss: 0.0546 - accuracy: 0.9833\n",
            "Epoch 219/300\n",
            "120/120 [==============================] - 0s 102us/step - loss: 0.0546 - accuracy: 0.9833\n",
            "Epoch 220/300\n",
            "120/120 [==============================] - 0s 93us/step - loss: 0.0545 - accuracy: 0.9833\n",
            "Epoch 221/300\n",
            "120/120 [==============================] - 0s 91us/step - loss: 0.0543 - accuracy: 0.9833\n",
            "Epoch 222/300\n",
            "120/120 [==============================] - 0s 93us/step - loss: 0.0543 - accuracy: 0.9833\n",
            "Epoch 223/300\n",
            "120/120 [==============================] - 0s 97us/step - loss: 0.0543 - accuracy: 0.9833\n",
            "Epoch 224/300\n",
            "120/120 [==============================] - 0s 103us/step - loss: 0.0542 - accuracy: 0.9833\n",
            "Epoch 225/300\n",
            "120/120 [==============================] - 0s 99us/step - loss: 0.0540 - accuracy: 0.9833\n",
            "Epoch 226/300\n",
            "120/120 [==============================] - 0s 90us/step - loss: 0.0540 - accuracy: 0.9833\n",
            "Epoch 227/300\n",
            "120/120 [==============================] - 0s 97us/step - loss: 0.0545 - accuracy: 0.9833\n",
            "Epoch 228/300\n",
            "120/120 [==============================] - 0s 98us/step - loss: 0.0549 - accuracy: 0.9833\n",
            "Epoch 229/300\n",
            "120/120 [==============================] - 0s 99us/step - loss: 0.0540 - accuracy: 0.9833\n",
            "Epoch 230/300\n",
            "120/120 [==============================] - 0s 99us/step - loss: 0.0536 - accuracy: 0.9833\n",
            "Epoch 231/300\n",
            "120/120 [==============================] - 0s 96us/step - loss: 0.0537 - accuracy: 0.9833\n",
            "Epoch 232/300\n",
            "120/120 [==============================] - 0s 98us/step - loss: 0.0535 - accuracy: 0.9833\n",
            "Epoch 233/300\n",
            "120/120 [==============================] - 0s 88us/step - loss: 0.0538 - accuracy: 0.9833\n",
            "Epoch 234/300\n",
            "120/120 [==============================] - 0s 92us/step - loss: 0.0534 - accuracy: 0.9833\n",
            "Epoch 235/300\n",
            "120/120 [==============================] - 0s 92us/step - loss: 0.0532 - accuracy: 0.9833\n",
            "Epoch 236/300\n",
            "120/120 [==============================] - 0s 87us/step - loss: 0.0532 - accuracy: 0.9833\n",
            "Epoch 237/300\n",
            "120/120 [==============================] - 0s 90us/step - loss: 0.0532 - accuracy: 0.9833\n",
            "Epoch 238/300\n",
            "120/120 [==============================] - 0s 92us/step - loss: 0.0531 - accuracy: 0.9833\n",
            "Epoch 239/300\n",
            "120/120 [==============================] - 0s 96us/step - loss: 0.0530 - accuracy: 0.9833\n",
            "Epoch 240/300\n",
            "120/120 [==============================] - 0s 86us/step - loss: 0.0531 - accuracy: 0.9833\n",
            "Epoch 241/300\n",
            "120/120 [==============================] - 0s 96us/step - loss: 0.0529 - accuracy: 0.9833\n",
            "Epoch 242/300\n",
            "120/120 [==============================] - 0s 89us/step - loss: 0.0536 - accuracy: 0.9833\n",
            "Epoch 243/300\n",
            "120/120 [==============================] - 0s 113us/step - loss: 0.0528 - accuracy: 0.9833\n",
            "Epoch 244/300\n",
            "120/120 [==============================] - 0s 96us/step - loss: 0.0527 - accuracy: 0.9833\n",
            "Epoch 245/300\n",
            "120/120 [==============================] - 0s 97us/step - loss: 0.0527 - accuracy: 0.9833\n",
            "Epoch 246/300\n",
            "120/120 [==============================] - 0s 90us/step - loss: 0.0534 - accuracy: 0.9833\n",
            "Epoch 247/300\n",
            "120/120 [==============================] - 0s 97us/step - loss: 0.0526 - accuracy: 0.9833\n",
            "Epoch 248/300\n",
            "120/120 [==============================] - 0s 106us/step - loss: 0.0524 - accuracy: 0.9833\n",
            "Epoch 249/300\n",
            "120/120 [==============================] - 0s 100us/step - loss: 0.0532 - accuracy: 0.9833\n",
            "Epoch 250/300\n",
            "120/120 [==============================] - 0s 102us/step - loss: 0.0525 - accuracy: 0.9833\n",
            "Epoch 251/300\n",
            "120/120 [==============================] - 0s 99us/step - loss: 0.0523 - accuracy: 0.9833\n",
            "Epoch 252/300\n",
            "120/120 [==============================] - 0s 98us/step - loss: 0.0524 - accuracy: 0.9833\n",
            "Epoch 253/300\n",
            "120/120 [==============================] - 0s 105us/step - loss: 0.0523 - accuracy: 0.9833\n",
            "Epoch 254/300\n",
            "120/120 [==============================] - 0s 111us/step - loss: 0.0522 - accuracy: 0.9833\n",
            "Epoch 255/300\n",
            "120/120 [==============================] - 0s 107us/step - loss: 0.0521 - accuracy: 0.9833\n",
            "Epoch 256/300\n",
            "120/120 [==============================] - 0s 99us/step - loss: 0.0521 - accuracy: 0.9833\n",
            "Epoch 257/300\n",
            "120/120 [==============================] - 0s 114us/step - loss: 0.0524 - accuracy: 0.9833\n",
            "Epoch 258/300\n",
            "120/120 [==============================] - 0s 104us/step - loss: 0.0519 - accuracy: 0.9833\n",
            "Epoch 259/300\n",
            "120/120 [==============================] - 0s 99us/step - loss: 0.0521 - accuracy: 0.9833\n",
            "Epoch 260/300\n",
            "120/120 [==============================] - 0s 96us/step - loss: 0.0518 - accuracy: 0.9833\n",
            "Epoch 261/300\n",
            "120/120 [==============================] - 0s 102us/step - loss: 0.0519 - accuracy: 0.9833\n",
            "Epoch 262/300\n",
            "120/120 [==============================] - 0s 94us/step - loss: 0.0518 - accuracy: 0.9833\n",
            "Epoch 263/300\n",
            "120/120 [==============================] - 0s 95us/step - loss: 0.0525 - accuracy: 0.9833\n",
            "Epoch 264/300\n",
            "120/120 [==============================] - 0s 98us/step - loss: 0.0524 - accuracy: 0.9833\n",
            "Epoch 265/300\n",
            "120/120 [==============================] - 0s 96us/step - loss: 0.0516 - accuracy: 0.9833\n",
            "Epoch 266/300\n",
            "120/120 [==============================] - 0s 112us/step - loss: 0.0518 - accuracy: 0.9833\n",
            "Epoch 267/300\n",
            "120/120 [==============================] - 0s 97us/step - loss: 0.0514 - accuracy: 0.9833\n",
            "Epoch 268/300\n",
            "120/120 [==============================] - 0s 109us/step - loss: 0.0513 - accuracy: 0.9833\n",
            "Epoch 269/300\n",
            "120/120 [==============================] - 0s 103us/step - loss: 0.0514 - accuracy: 0.9833\n",
            "Epoch 270/300\n",
            "120/120 [==============================] - 0s 113us/step - loss: 0.0515 - accuracy: 0.9833\n",
            "Epoch 271/300\n",
            "120/120 [==============================] - 0s 112us/step - loss: 0.0513 - accuracy: 0.9833\n",
            "Epoch 272/300\n",
            "120/120 [==============================] - 0s 101us/step - loss: 0.0515 - accuracy: 0.9833\n",
            "Epoch 273/300\n",
            "120/120 [==============================] - 0s 94us/step - loss: 0.0516 - accuracy: 0.9833\n",
            "Epoch 274/300\n",
            "120/120 [==============================] - 0s 102us/step - loss: 0.0516 - accuracy: 0.9833\n",
            "Epoch 275/300\n",
            "120/120 [==============================] - 0s 105us/step - loss: 0.0515 - accuracy: 0.9833\n",
            "Epoch 276/300\n",
            "120/120 [==============================] - 0s 101us/step - loss: 0.0518 - accuracy: 0.9833\n",
            "Epoch 277/300\n",
            "120/120 [==============================] - 0s 100us/step - loss: 0.0510 - accuracy: 0.9833\n",
            "Epoch 278/300\n",
            "120/120 [==============================] - 0s 117us/step - loss: 0.0510 - accuracy: 0.9833\n",
            "Epoch 279/300\n",
            "120/120 [==============================] - 0s 100us/step - loss: 0.0508 - accuracy: 0.9833\n",
            "Epoch 280/300\n",
            "120/120 [==============================] - 0s 106us/step - loss: 0.0508 - accuracy: 0.9833\n",
            "Epoch 281/300\n",
            "120/120 [==============================] - 0s 98us/step - loss: 0.0508 - accuracy: 0.9833\n",
            "Epoch 282/300\n",
            "120/120 [==============================] - 0s 93us/step - loss: 0.0508 - accuracy: 0.9833\n",
            "Epoch 283/300\n",
            "120/120 [==============================] - 0s 103us/step - loss: 0.0506 - accuracy: 0.9833\n",
            "Epoch 284/300\n",
            "120/120 [==============================] - 0s 123us/step - loss: 0.0507 - accuracy: 0.9833\n",
            "Epoch 285/300\n",
            "120/120 [==============================] - 0s 113us/step - loss: 0.0505 - accuracy: 0.9833\n",
            "Epoch 286/300\n",
            "120/120 [==============================] - 0s 101us/step - loss: 0.0505 - accuracy: 0.9833\n",
            "Epoch 287/300\n",
            "120/120 [==============================] - 0s 103us/step - loss: 0.0505 - accuracy: 0.9833\n",
            "Epoch 288/300\n",
            "120/120 [==============================] - 0s 103us/step - loss: 0.0504 - accuracy: 0.9833\n",
            "Epoch 289/300\n",
            "120/120 [==============================] - 0s 111us/step - loss: 0.0505 - accuracy: 0.9833\n",
            "Epoch 290/300\n",
            "120/120 [==============================] - 0s 103us/step - loss: 0.0506 - accuracy: 0.9833\n",
            "Epoch 291/300\n",
            "120/120 [==============================] - 0s 86us/step - loss: 0.0505 - accuracy: 0.9833\n",
            "Epoch 292/300\n",
            "120/120 [==============================] - 0s 89us/step - loss: 0.0503 - accuracy: 0.9833\n",
            "Epoch 293/300\n",
            "120/120 [==============================] - 0s 88us/step - loss: 0.0505 - accuracy: 0.9833\n",
            "Epoch 294/300\n",
            "120/120 [==============================] - 0s 93us/step - loss: 0.0503 - accuracy: 0.9833\n",
            "Epoch 295/300\n",
            "120/120 [==============================] - 0s 98us/step - loss: 0.0507 - accuracy: 0.9833\n",
            "Epoch 296/300\n",
            "120/120 [==============================] - 0s 91us/step - loss: 0.0501 - accuracy: 0.9833\n",
            "Epoch 297/300\n",
            "120/120 [==============================] - 0s 107us/step - loss: 0.0501 - accuracy: 0.9833\n",
            "Epoch 298/300\n",
            "120/120 [==============================] - 0s 103us/step - loss: 0.0505 - accuracy: 0.9833\n",
            "Epoch 299/300\n",
            "120/120 [==============================] - 0s 111us/step - loss: 0.0501 - accuracy: 0.9833\n",
            "Epoch 300/300\n",
            "120/120 [==============================] - 0s 98us/step - loss: 0.0505 - accuracy: 0.9833\n"
          ],
          "name": "stdout"
        }
      ]
    },
    {
      "cell_type": "code",
      "metadata": {
        "id": "uzHTk-7fqzJg",
        "colab_type": "code",
        "colab": {}
      },
      "source": [
        "test_result = model.evaluate(X_test, y_test, verbose=0)"
      ],
      "execution_count": 0,
      "outputs": []
    },
    {
      "cell_type": "code",
      "metadata": {
        "id": "YZF8-tKVqzFs",
        "colab_type": "code",
        "colab": {
          "base_uri": "https://localhost:8080/",
          "height": 51
        },
        "outputId": "4569b25b-49c7-4d4d-8c44-9377f825109a"
      },
      "source": [
        "print(\"Test score: {}\".format(test_result[0]))\n",
        "print(\"Test accuracy: {:.2f}\".format(test_result[1]))"
      ],
      "execution_count": 27,
      "outputs": [
        {
          "output_type": "stream",
          "text": [
            "Test score: 0.02975640259683132\n",
            "Test accuracy: 1.00\n"
          ],
          "name": "stdout"
        }
      ]
    },
    {
      "cell_type": "code",
      "metadata": {
        "id": "g0FTJ5B61MjK",
        "colab_type": "code",
        "colab": {}
      },
      "source": [
        "y_pred = model.predict(X_test)\n",
        "y_test_class = np.argmax(y_test, axis=1)\n",
        "y_pred_class = np.argmax(y_pred, axis=1)"
      ],
      "execution_count": 0,
      "outputs": []
    },
    {
      "cell_type": "code",
      "metadata": {
        "id": "I66wnHCpTWLu",
        "colab_type": "code",
        "colab": {
          "base_uri": "https://localhost:8080/",
          "height": 238
        },
        "outputId": "92988345-87fa-40ae-8b92-b6e71d790329"
      },
      "source": [
        "print(classification_report(y_test_class,y_pred_class))\n",
        "print(confusion_matrix(y_test_class,y_pred_class))"
      ],
      "execution_count": 29,
      "outputs": [
        {
          "output_type": "stream",
          "text": [
            "              precision    recall  f1-score   support\n",
            "\n",
            "           0       1.00      1.00      1.00        10\n",
            "           1       1.00      1.00      1.00         9\n",
            "           2       1.00      1.00      1.00        11\n",
            "\n",
            "    accuracy                           1.00        30\n",
            "   macro avg       1.00      1.00      1.00        30\n",
            "weighted avg       1.00      1.00      1.00        30\n",
            "\n",
            "[[10  0  0]\n",
            " [ 0  9  0]\n",
            " [ 0  0 11]]\n"
          ],
          "name": "stdout"
        }
      ]
    },
    {
      "cell_type": "code",
      "metadata": {
        "id": "gb1YMYyJ2NqM",
        "colab_type": "code",
        "colab": {}
      },
      "source": [
        "df_result = pd.DataFrame.from_dict(trained_model.history)"
      ],
      "execution_count": 0,
      "outputs": []
    },
    {
      "cell_type": "code",
      "metadata": {
        "id": "BkWdcg-i2WmH",
        "colab_type": "code",
        "colab": {
          "base_uri": "https://localhost:8080/",
          "height": 282
        },
        "outputId": "3e07c09b-6232-4a52-c8b9-6598bc7c1668"
      },
      "source": [
        "df_result.plot()"
      ],
      "execution_count": 31,
      "outputs": [
        {
          "output_type": "execute_result",
          "data": {
            "text/plain": [
              "<matplotlib.axes._subplots.AxesSubplot at 0x7f46961071d0>"
            ]
          },
          "metadata": {
            "tags": []
          },
          "execution_count": 31
        },
        {
          "output_type": "display_data",
          "data": {
            "image/png": "[encoded data removed]",
            "text/plain": [
              "<Figure size 432x288 with 1 Axes>"
            ]
          },
          "metadata": {
            "tags": [],
            "needs_background": "light"
          }
        }
      ]
    }
  ]
}